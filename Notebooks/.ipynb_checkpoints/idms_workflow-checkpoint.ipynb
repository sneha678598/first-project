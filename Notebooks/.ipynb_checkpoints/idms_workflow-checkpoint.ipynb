{
 "cells": [
  {
   "cell_type": "markdown",
   "id": "60002ad6-13a0-4290-973c-679c4bf30400",
   "metadata": {},
   "source": [
    "# Installing libraries"
   ]
  },
  {
   "cell_type": "code",
   "execution_count": 2,
   "id": "f889c5b2-6977-4722-ab5a-fbd5d8804177",
   "metadata": {},
   "outputs": [
    {
     "name": "stdout",
     "output_type": "stream",
     "text": [
      "Requirement already satisfied: pandas in c:\\users\\acer\\appdata\\roaming\\python\\python312\\site-packages (2.2.2)\n",
      "Requirement already satisfied: numpy>=1.26.0 in c:\\users\\acer\\appdata\\roaming\\python\\python312\\site-packages (from pandas) (2.1.0)\n",
      "Requirement already satisfied: python-dateutil>=2.8.2 in c:\\users\\acer\\appdata\\roaming\\python\\python312\\site-packages (from pandas) (2.9.0.post0)\n",
      "Requirement already satisfied: pytz>=2020.1 in c:\\users\\acer\\appdata\\roaming\\python\\python312\\site-packages (from pandas) (2024.1)\n",
      "Requirement already satisfied: tzdata>=2022.7 in c:\\users\\acer\\appdata\\roaming\\python\\python312\\site-packages (from pandas) (2024.1)\n",
      "Requirement already satisfied: six>=1.5 in c:\\users\\acer\\appdata\\roaming\\python\\python312\\site-packages (from python-dateutil>=2.8.2->pandas) (1.16.0)\n",
      "Note: you may need to restart the kernel to use updated packages.\n"
     ]
    }
   ],
   "source": [
    "pip install pandas "
   ]
  },
  {
   "cell_type": "code",
   "execution_count": 3,
   "id": "0aafbcc6-6cb2-49e5-8fba-b83043466e09",
   "metadata": {},
   "outputs": [],
   "source": [
    "import pandas as pd\n",
    "import joblib\n",
    "from sklearn.model_selection import train_test_split\n",
    "from sklearn.ensemble import RandomForestClassifier\n",
    "from sklearn.metrics import accuracy_score\n",
    "import requests"
   ]
  },
  {
   "cell_type": "code",
   "execution_count": 4,
   "id": "f5691906-47fe-489f-83f4-7c2c87545ec2",
   "metadata": {},
   "outputs": [],
   "source": [
    "# Define paths for data and models\n",
    "processed_data_path = 'Data\\\\processed_data\\\\'\n",
    "live_data_path = 'Data\\\\Live_data\\\\'\n",
    "models_path = 'Data\\\\models\\\\'\n",
    "results_path = 'Data\\\\results\\\\'\n"
   ]
  },
  {
   "cell_type": "markdown",
   "id": "ed6722d9-fb67-4597-8859-b7d40aef00f5",
   "metadata": {},
   "source": [
    "# load train data"
   ]
  },
  {
   "cell_type": "code",
   "execution_count": 6,
   "id": "dd932542-163c-4b2b-87a6-6e73acb75f36",
   "metadata": {},
   "outputs": [],
   "source": [
    "train_data = pd.read_csv(r'C:\\Users\\acer\\Disaster_management_system\\data\\raw_data\\train.csv')"
   ]
  },
  {
   "cell_type": "code",
   "execution_count": 7,
   "id": "20ae105d-c33d-4177-bf02-3bee8d8fbdf8",
   "metadata": {},
   "outputs": [
    {
     "data": {
      "text/html": [
       "<div>\n",
       "<style scoped>\n",
       "    .dataframe tbody tr th:only-of-type {\n",
       "        vertical-align: middle;\n",
       "    }\n",
       "\n",
       "    .dataframe tbody tr th {\n",
       "        vertical-align: top;\n",
       "    }\n",
       "\n",
       "    .dataframe thead th {\n",
       "        text-align: right;\n",
       "    }\n",
       "</style>\n",
       "<table border=\"1\" class=\"dataframe\">\n",
       "  <thead>\n",
       "    <tr style=\"text-align: right;\">\n",
       "      <th></th>\n",
       "      <th>id</th>\n",
       "      <th>keyword</th>\n",
       "      <th>location</th>\n",
       "      <th>text</th>\n",
       "      <th>target</th>\n",
       "    </tr>\n",
       "  </thead>\n",
       "  <tbody>\n",
       "    <tr>\n",
       "      <th>0</th>\n",
       "      <td>1</td>\n",
       "      <td>NaN</td>\n",
       "      <td>NaN</td>\n",
       "      <td>Our Deeds are the Reason of this #earthquake M...</td>\n",
       "      <td>1</td>\n",
       "    </tr>\n",
       "    <tr>\n",
       "      <th>1</th>\n",
       "      <td>4</td>\n",
       "      <td>NaN</td>\n",
       "      <td>NaN</td>\n",
       "      <td>Forest fire near La Ronge Sask. Canada</td>\n",
       "      <td>1</td>\n",
       "    </tr>\n",
       "    <tr>\n",
       "      <th>2</th>\n",
       "      <td>5</td>\n",
       "      <td>NaN</td>\n",
       "      <td>NaN</td>\n",
       "      <td>All residents asked to 'shelter in place' are ...</td>\n",
       "      <td>1</td>\n",
       "    </tr>\n",
       "    <tr>\n",
       "      <th>3</th>\n",
       "      <td>6</td>\n",
       "      <td>NaN</td>\n",
       "      <td>NaN</td>\n",
       "      <td>13,000 people receive #wildfires evacuation or...</td>\n",
       "      <td>1</td>\n",
       "    </tr>\n",
       "    <tr>\n",
       "      <th>4</th>\n",
       "      <td>7</td>\n",
       "      <td>NaN</td>\n",
       "      <td>NaN</td>\n",
       "      <td>Just got sent this photo from Ruby #Alaska as ...</td>\n",
       "      <td>1</td>\n",
       "    </tr>\n",
       "    <tr>\n",
       "      <th>...</th>\n",
       "      <td>...</td>\n",
       "      <td>...</td>\n",
       "      <td>...</td>\n",
       "      <td>...</td>\n",
       "      <td>...</td>\n",
       "    </tr>\n",
       "    <tr>\n",
       "      <th>7608</th>\n",
       "      <td>10869</td>\n",
       "      <td>NaN</td>\n",
       "      <td>NaN</td>\n",
       "      <td>Two giant cranes holding a bridge collapse int...</td>\n",
       "      <td>1</td>\n",
       "    </tr>\n",
       "    <tr>\n",
       "      <th>7609</th>\n",
       "      <td>10870</td>\n",
       "      <td>NaN</td>\n",
       "      <td>NaN</td>\n",
       "      <td>@aria_ahrary @TheTawniest The out of control w...</td>\n",
       "      <td>1</td>\n",
       "    </tr>\n",
       "    <tr>\n",
       "      <th>7610</th>\n",
       "      <td>10871</td>\n",
       "      <td>NaN</td>\n",
       "      <td>NaN</td>\n",
       "      <td>M1.94 [01:04 UTC]?5km S of Volcano Hawaii. htt...</td>\n",
       "      <td>1</td>\n",
       "    </tr>\n",
       "    <tr>\n",
       "      <th>7611</th>\n",
       "      <td>10872</td>\n",
       "      <td>NaN</td>\n",
       "      <td>NaN</td>\n",
       "      <td>Police investigating after an e-bike collided ...</td>\n",
       "      <td>1</td>\n",
       "    </tr>\n",
       "    <tr>\n",
       "      <th>7612</th>\n",
       "      <td>10873</td>\n",
       "      <td>NaN</td>\n",
       "      <td>NaN</td>\n",
       "      <td>The Latest: More Homes Razed by Northern Calif...</td>\n",
       "      <td>1</td>\n",
       "    </tr>\n",
       "  </tbody>\n",
       "</table>\n",
       "<p>7613 rows × 5 columns</p>\n",
       "</div>"
      ],
      "text/plain": [
       "         id keyword location  \\\n",
       "0         1     NaN      NaN   \n",
       "1         4     NaN      NaN   \n",
       "2         5     NaN      NaN   \n",
       "3         6     NaN      NaN   \n",
       "4         7     NaN      NaN   \n",
       "...     ...     ...      ...   \n",
       "7608  10869     NaN      NaN   \n",
       "7609  10870     NaN      NaN   \n",
       "7610  10871     NaN      NaN   \n",
       "7611  10872     NaN      NaN   \n",
       "7612  10873     NaN      NaN   \n",
       "\n",
       "                                                   text  target  \n",
       "0     Our Deeds are the Reason of this #earthquake M...       1  \n",
       "1                Forest fire near La Ronge Sask. Canada       1  \n",
       "2     All residents asked to 'shelter in place' are ...       1  \n",
       "3     13,000 people receive #wildfires evacuation or...       1  \n",
       "4     Just got sent this photo from Ruby #Alaska as ...       1  \n",
       "...                                                 ...     ...  \n",
       "7608  Two giant cranes holding a bridge collapse int...       1  \n",
       "7609  @aria_ahrary @TheTawniest The out of control w...       1  \n",
       "7610  M1.94 [01:04 UTC]?5km S of Volcano Hawaii. htt...       1  \n",
       "7611  Police investigating after an e-bike collided ...       1  \n",
       "7612  The Latest: More Homes Razed by Northern Calif...       1  \n",
       "\n",
       "[7613 rows x 5 columns]"
      ]
     },
     "execution_count": 7,
     "metadata": {},
     "output_type": "execute_result"
    }
   ],
   "source": [
    "train_data"
   ]
  },
  {
   "cell_type": "code",
   "execution_count": 8,
   "id": "e931e6bc-6e28-4e76-b2f3-b3ccc3b5cd53",
   "metadata": {},
   "outputs": [
    {
     "name": "stdout",
     "output_type": "stream",
     "text": [
      "Testing Data:\n",
      "   id keyword location                                               text\n",
      "0   0     NaN      NaN                 Just happened a terrible car crash\n",
      "1   2     NaN      NaN  Heard about #earthquake is different cities, s...\n",
      "2   3     NaN      NaN  there is a forest fire at spot pond, geese are...\n",
      "3   9     NaN      NaN           Apocalypse lighting. #Spokane #wildfires\n",
      "4  11     NaN      NaN      Typhoon Soudelor kills 28 in China and Taiwan\n"
     ]
    }
   ],
   "source": [
    "# Load testing data\n",
    "test_data = pd.read_csv(r'C:\\Users\\acer\\Disaster_management_system\\data\\raw_data\\test.csv')\n",
    "print(\"Testing Data:\")\n",
    "print(test_data.head())"
   ]
  },
  {
   "cell_type": "code",
   "execution_count": 9,
   "id": "dc430dc4-fbfd-4e67-b6d5-5fccae6b2ee9",
   "metadata": {},
   "outputs": [
    {
     "name": "stdout",
     "output_type": "stream",
     "text": [
      "Sample Submission:\n",
      "   id  target\n",
      "0   0       0\n",
      "1   2       0\n",
      "2   3       0\n",
      "3   9       0\n",
      "4  11       0\n"
     ]
    }
   ],
   "source": [
    "# Load sample submission file (if needed)\n",
    "sample_submission = pd.read_csv(r'C:\\Users\\acer\\Disaster_management_system\\data\\raw_data\\sample_submission.csv')\n",
    "print(\"Sample Submission:\")\n",
    "print(sample_submission.head())"
   ]
  },
  {
   "cell_type": "markdown",
   "id": "307845fc-7a95-46e4-a903-3da7723a9a0d",
   "metadata": {},
   "source": [
    "# Exploratory Data Analysis (EDA)\n",
    "Understand the data"
   ]
  },
  {
   "cell_type": "code",
   "execution_count": 11,
   "id": "c1c3ae52-e3c1-4007-97b7-a35c8dc09535",
   "metadata": {},
   "outputs": [
    {
     "name": "stdout",
     "output_type": "stream",
     "text": [
      "<class 'pandas.core.frame.DataFrame'>\n",
      "RangeIndex: 7613 entries, 0 to 7612\n",
      "Data columns (total 5 columns):\n",
      " #   Column    Non-Null Count  Dtype \n",
      "---  ------    --------------  ----- \n",
      " 0   id        7613 non-null   int64 \n",
      " 1   keyword   7552 non-null   object\n",
      " 2   location  5080 non-null   object\n",
      " 3   text      7613 non-null   object\n",
      " 4   target    7613 non-null   int64 \n",
      "dtypes: int64(2), object(3)\n",
      "memory usage: 297.5+ KB\n",
      "None\n"
     ]
    }
   ],
   "source": [
    "print(train_data.info())  # Summary of data, including data types and missing values   "
   ]
  },
  {
   "cell_type": "code",
   "execution_count": 12,
   "id": "911958c0-60a3-4789-816d-2a0bf4473438",
   "metadata": {},
   "outputs": [
    {
     "name": "stdout",
     "output_type": "stream",
     "text": [
      "                 id      target\n",
      "count   7613.000000  7613.00000\n",
      "mean    5441.934848     0.42966\n",
      "std     3137.116090     0.49506\n",
      "min        1.000000     0.00000\n",
      "25%     2734.000000     0.00000\n",
      "50%     5408.000000     0.00000\n",
      "75%     8146.000000     1.00000\n",
      "max    10873.000000     1.00000\n"
     ]
    }
   ],
   "source": [
    "print(train_data.describe())  # Statistical summary of numeric columns   "
   ]
  },
  {
   "cell_type": "code",
   "execution_count": 13,
   "id": "6c9a375b-83c3-4054-a097-1abde151881c",
   "metadata": {},
   "outputs": [
    {
     "name": "stdout",
     "output_type": "stream",
     "text": [
      "Index(['id', 'keyword', 'location', 'text', 'target'], dtype='object')\n"
     ]
    }
   ],
   "source": [
    "print(train_data.columns)  # List of columns in the dataset "
   ]
  },
  {
   "cell_type": "markdown",
   "id": "92a92ba8-a7ed-40b5-a2c3-0575896900ee",
   "metadata": {},
   "source": [
    "# Visualize data"
   ]
  },
  {
   "cell_type": "code",
   "execution_count": 15,
   "id": "3026f7be-81fc-4ad1-a4cb-5910fcbb3f92",
   "metadata": {},
   "outputs": [
    {
     "data": {
      "image/png": "[encoded data removed]",
      "text/plain": [
       "<Figure size 500x500 with 6 Axes>"
      ]
     },
     "metadata": {},
     "output_type": "display_data"
    }
   ],
   "source": [
    "import seaborn as sns\n",
    "import matplotlib.pyplot as plt\n",
    "\n",
    "sns.pairplot(train_data)\n",
    "plt.show()"
   ]
  },
  {
   "cell_type": "code",
   "execution_count": 16,
   "id": "581d9ad4-c328-45bc-a3a7-6783be55ddcc",
   "metadata": {},
   "outputs": [
    {
     "name": "stdout",
     "output_type": "stream",
     "text": [
      "         id  target\n",
      "0         1       1\n",
      "1         4       1\n",
      "2         5       1\n",
      "3         6       1\n",
      "4         7       1\n",
      "...     ...     ...\n",
      "7608  10869       1\n",
      "7609  10870       1\n",
      "7610  10871       1\n",
      "7611  10872       1\n",
      "7612  10873       1\n",
      "\n",
      "[7613 rows x 2 columns]\n"
     ]
    }
   ],
   "source": [
    "import seaborn as sns\n",
    "import matplotlib.pyplot as plt\n",
    "\n",
    "# Select only the numeric columns\n",
    "numeric_columns = train_data.select_dtypes(include=['float64', 'int64'])\n",
    "print(numeric_columns)"
   ]
  },
  {
   "cell_type": "code",
   "execution_count": 17,
   "id": "e1bac6d0-d2ef-43c6-b469-a7b9f0081417",
   "metadata": {},
   "outputs": [
    {
     "data": {
      "image/png": "[encoded data removed]",
      "text/plain": [
       "<Figure size 640x480 with 2 Axes>"
      ]
     },
     "metadata": {},
     "output_type": "display_data"
    }
   ],
   "source": [
    "# Compute the correlation matrix ,annot har cell ke ander corr value ko display krta, cmp color scheme set krta\n",
    "corr_matrix = numeric_columns.corr()\n",
    "\n",
    "# Plot the heatmap\n",
    "sns.heatmap(corr_matrix, annot=True, cmap='coolwarm')\n",
    "plt.show()"
   ]
  },
  {
   "cell_type": "markdown",
   "id": "c4f5cb45-4acc-432d-ac4c-d88f9534f053",
   "metadata": {},
   "source": [
    "# Data Cleaning and Preprocessing"
   ]
  },
  {
   "cell_type": "code",
   "execution_count": 19,
   "id": "0fec87ce-599e-4a41-888d-23d7942bfbdc",
   "metadata": {},
   "outputs": [
    {
     "data": {
      "text/plain": [
       "id             0\n",
       "keyword       61\n",
       "location    2533\n",
       "text           0\n",
       "target         0\n",
       "dtype: int64"
      ]
     },
     "execution_count": 19,
     "metadata": {},
     "output_type": "execute_result"
    }
   ],
   "source": [
    "# handle missing values\n",
    "train_data.isnull().sum()  # Check for missing values"
   ]
  },
  {
   "cell_type": "code",
   "execution_count": 20,
   "id": "0fa584a1-b3e9-43f8-8dcb-d2341d74c5ca",
   "metadata": {},
   "outputs": [
    {
     "data": {
      "text/html": [
       "<div>\n",
       "<style scoped>\n",
       "    .dataframe tbody tr th:only-of-type {\n",
       "        vertical-align: middle;\n",
       "    }\n",
       "\n",
       "    .dataframe tbody tr th {\n",
       "        vertical-align: top;\n",
       "    }\n",
       "\n",
       "    .dataframe thead th {\n",
       "        text-align: right;\n",
       "    }\n",
       "</style>\n",
       "<table border=\"1\" class=\"dataframe\">\n",
       "  <thead>\n",
       "    <tr style=\"text-align: right;\">\n",
       "      <th></th>\n",
       "      <th>id</th>\n",
       "      <th>keyword</th>\n",
       "      <th>location</th>\n",
       "      <th>text</th>\n",
       "      <th>target</th>\n",
       "    </tr>\n",
       "  </thead>\n",
       "  <tbody>\n",
       "    <tr>\n",
       "      <th>0</th>\n",
       "      <td>1</td>\n",
       "      <td>NaN</td>\n",
       "      <td>NaN</td>\n",
       "      <td>Our Deeds are the Reason of this #earthquake M...</td>\n",
       "      <td>1</td>\n",
       "    </tr>\n",
       "    <tr>\n",
       "      <th>1</th>\n",
       "      <td>4</td>\n",
       "      <td>NaN</td>\n",
       "      <td>NaN</td>\n",
       "      <td>Forest fire near La Ronge Sask. Canada</td>\n",
       "      <td>1</td>\n",
       "    </tr>\n",
       "    <tr>\n",
       "      <th>2</th>\n",
       "      <td>5</td>\n",
       "      <td>NaN</td>\n",
       "      <td>NaN</td>\n",
       "      <td>All residents asked to 'shelter in place' are ...</td>\n",
       "      <td>1</td>\n",
       "    </tr>\n",
       "    <tr>\n",
       "      <th>3</th>\n",
       "      <td>6</td>\n",
       "      <td>NaN</td>\n",
       "      <td>NaN</td>\n",
       "      <td>13,000 people receive #wildfires evacuation or...</td>\n",
       "      <td>1</td>\n",
       "    </tr>\n",
       "    <tr>\n",
       "      <th>4</th>\n",
       "      <td>7</td>\n",
       "      <td>NaN</td>\n",
       "      <td>NaN</td>\n",
       "      <td>Just got sent this photo from Ruby #Alaska as ...</td>\n",
       "      <td>1</td>\n",
       "    </tr>\n",
       "    <tr>\n",
       "      <th>...</th>\n",
       "      <td>...</td>\n",
       "      <td>...</td>\n",
       "      <td>...</td>\n",
       "      <td>...</td>\n",
       "      <td>...</td>\n",
       "    </tr>\n",
       "    <tr>\n",
       "      <th>7608</th>\n",
       "      <td>10869</td>\n",
       "      <td>NaN</td>\n",
       "      <td>NaN</td>\n",
       "      <td>Two giant cranes holding a bridge collapse int...</td>\n",
       "      <td>1</td>\n",
       "    </tr>\n",
       "    <tr>\n",
       "      <th>7609</th>\n",
       "      <td>10870</td>\n",
       "      <td>NaN</td>\n",
       "      <td>NaN</td>\n",
       "      <td>@aria_ahrary @TheTawniest The out of control w...</td>\n",
       "      <td>1</td>\n",
       "    </tr>\n",
       "    <tr>\n",
       "      <th>7610</th>\n",
       "      <td>10871</td>\n",
       "      <td>NaN</td>\n",
       "      <td>NaN</td>\n",
       "      <td>M1.94 [01:04 UTC]?5km S of Volcano Hawaii. htt...</td>\n",
       "      <td>1</td>\n",
       "    </tr>\n",
       "    <tr>\n",
       "      <th>7611</th>\n",
       "      <td>10872</td>\n",
       "      <td>NaN</td>\n",
       "      <td>NaN</td>\n",
       "      <td>Police investigating after an e-bike collided ...</td>\n",
       "      <td>1</td>\n",
       "    </tr>\n",
       "    <tr>\n",
       "      <th>7612</th>\n",
       "      <td>10873</td>\n",
       "      <td>NaN</td>\n",
       "      <td>NaN</td>\n",
       "      <td>The Latest: More Homes Razed by Northern Calif...</td>\n",
       "      <td>1</td>\n",
       "    </tr>\n",
       "  </tbody>\n",
       "</table>\n",
       "<p>7613 rows × 5 columns</p>\n",
       "</div>"
      ],
      "text/plain": [
       "         id keyword location  \\\n",
       "0         1     NaN      NaN   \n",
       "1         4     NaN      NaN   \n",
       "2         5     NaN      NaN   \n",
       "3         6     NaN      NaN   \n",
       "4         7     NaN      NaN   \n",
       "...     ...     ...      ...   \n",
       "7608  10869     NaN      NaN   \n",
       "7609  10870     NaN      NaN   \n",
       "7610  10871     NaN      NaN   \n",
       "7611  10872     NaN      NaN   \n",
       "7612  10873     NaN      NaN   \n",
       "\n",
       "                                                   text  target  \n",
       "0     Our Deeds are the Reason of this #earthquake M...       1  \n",
       "1                Forest fire near La Ronge Sask. Canada       1  \n",
       "2     All residents asked to 'shelter in place' are ...       1  \n",
       "3     13,000 people receive #wildfires evacuation or...       1  \n",
       "4     Just got sent this photo from Ruby #Alaska as ...       1  \n",
       "...                                                 ...     ...  \n",
       "7608  Two giant cranes holding a bridge collapse int...       1  \n",
       "7609  @aria_ahrary @TheTawniest The out of control w...       1  \n",
       "7610  M1.94 [01:04 UTC]?5km S of Volcano Hawaii. htt...       1  \n",
       "7611  Police investigating after an e-bike collided ...       1  \n",
       "7612  The Latest: More Homes Razed by Northern Calif...       1  \n",
       "\n",
       "[7613 rows x 5 columns]"
      ]
     },
     "execution_count": 20,
     "metadata": {},
     "output_type": "execute_result"
    }
   ],
   "source": [
    "train_data"
   ]
  },
  {
   "cell_type": "code",
   "execution_count": 21,
   "id": "cdf56cdf-8143-4a5f-bac4-9fb1d652149b",
   "metadata": {},
   "outputs": [],
   "source": [
    "# Drop the 'id' column from the train data\n",
    "train_data = train_data.drop(columns=['id'])"
   ]
  },
  {
   "cell_type": "code",
   "execution_count": 22,
   "id": "8bc1a0fb-5515-45a3-bf45-ba520db610b4",
   "metadata": {},
   "outputs": [
    {
     "name": "stdout",
     "output_type": "stream",
     "text": [
      "Missing values handled.\n"
     ]
    }
   ],
   "source": [
    "numeric_columns = train_data.select_dtypes(include=['float64', 'int64']).columns\n",
    "\n",
    "# Fill missing values with the mean of each numeric column\n",
    "train_data[numeric_columns] = train_data[numeric_columns].fillna(train_data[numeric_columns].mean())\n",
    "\n",
    "print(\"Missing values handled.\")"
   ]
  },
  {
   "cell_type": "code",
   "execution_count": 23,
   "id": "5bb49fa9-2b0c-40a8-bc5c-7bb01b19e07c",
   "metadata": {},
   "outputs": [
    {
     "name": "stdout",
     "output_type": "stream",
     "text": [
      "Categorical missing values handled.\n"
     ]
    }
   ],
   "source": [
    "# Handle missing values in categorical data,iloc mtlb aap rows column ko unke index number se accsess kr skte hai integer location base indexing\n",
    "categorical_columns = train_data.select_dtypes(include=['object']).columns\n",
    "\n",
    "# Fill missing values with the most frequent value\n",
    "train_data[categorical_columns] = train_data[categorical_columns].fillna(train_data[categorical_columns].mode().iloc[0])\n",
    "\n",
    "print(\"Categorical missing values handled.\")"
   ]
  },
  {
   "cell_type": "code",
   "execution_count": 24,
   "id": "34dbc753-b4c2-4e43-b0e4-a2e316666ce9",
   "metadata": {},
   "outputs": [
    {
     "data": {
      "text/html": [
       "<div>\n",
       "<style scoped>\n",
       "    .dataframe tbody tr th:only-of-type {\n",
       "        vertical-align: middle;\n",
       "    }\n",
       "\n",
       "    .dataframe tbody tr th {\n",
       "        vertical-align: top;\n",
       "    }\n",
       "\n",
       "    .dataframe thead th {\n",
       "        text-align: right;\n",
       "    }\n",
       "</style>\n",
       "<table border=\"1\" class=\"dataframe\">\n",
       "  <thead>\n",
       "    <tr style=\"text-align: right;\">\n",
       "      <th></th>\n",
       "      <th>keyword</th>\n",
       "      <th>location</th>\n",
       "      <th>text</th>\n",
       "      <th>target</th>\n",
       "    </tr>\n",
       "  </thead>\n",
       "  <tbody>\n",
       "    <tr>\n",
       "      <th>0</th>\n",
       "      <td>fatalities</td>\n",
       "      <td>USA</td>\n",
       "      <td>Our Deeds are the Reason of this #earthquake M...</td>\n",
       "      <td>1</td>\n",
       "    </tr>\n",
       "    <tr>\n",
       "      <th>1</th>\n",
       "      <td>fatalities</td>\n",
       "      <td>USA</td>\n",
       "      <td>Forest fire near La Ronge Sask. Canada</td>\n",
       "      <td>1</td>\n",
       "    </tr>\n",
       "    <tr>\n",
       "      <th>2</th>\n",
       "      <td>fatalities</td>\n",
       "      <td>USA</td>\n",
       "      <td>All residents asked to 'shelter in place' are ...</td>\n",
       "      <td>1</td>\n",
       "    </tr>\n",
       "    <tr>\n",
       "      <th>3</th>\n",
       "      <td>fatalities</td>\n",
       "      <td>USA</td>\n",
       "      <td>13,000 people receive #wildfires evacuation or...</td>\n",
       "      <td>1</td>\n",
       "    </tr>\n",
       "    <tr>\n",
       "      <th>4</th>\n",
       "      <td>fatalities</td>\n",
       "      <td>USA</td>\n",
       "      <td>Just got sent this photo from Ruby #Alaska as ...</td>\n",
       "      <td>1</td>\n",
       "    </tr>\n",
       "    <tr>\n",
       "      <th>...</th>\n",
       "      <td>...</td>\n",
       "      <td>...</td>\n",
       "      <td>...</td>\n",
       "      <td>...</td>\n",
       "    </tr>\n",
       "    <tr>\n",
       "      <th>7608</th>\n",
       "      <td>fatalities</td>\n",
       "      <td>USA</td>\n",
       "      <td>Two giant cranes holding a bridge collapse int...</td>\n",
       "      <td>1</td>\n",
       "    </tr>\n",
       "    <tr>\n",
       "      <th>7609</th>\n",
       "      <td>fatalities</td>\n",
       "      <td>USA</td>\n",
       "      <td>@aria_ahrary @TheTawniest The out of control w...</td>\n",
       "      <td>1</td>\n",
       "    </tr>\n",
       "    <tr>\n",
       "      <th>7610</th>\n",
       "      <td>fatalities</td>\n",
       "      <td>USA</td>\n",
       "      <td>M1.94 [01:04 UTC]?5km S of Volcano Hawaii. htt...</td>\n",
       "      <td>1</td>\n",
       "    </tr>\n",
       "    <tr>\n",
       "      <th>7611</th>\n",
       "      <td>fatalities</td>\n",
       "      <td>USA</td>\n",
       "      <td>Police investigating after an e-bike collided ...</td>\n",
       "      <td>1</td>\n",
       "    </tr>\n",
       "    <tr>\n",
       "      <th>7612</th>\n",
       "      <td>fatalities</td>\n",
       "      <td>USA</td>\n",
       "      <td>The Latest: More Homes Razed by Northern Calif...</td>\n",
       "      <td>1</td>\n",
       "    </tr>\n",
       "  </tbody>\n",
       "</table>\n",
       "<p>7613 rows × 4 columns</p>\n",
       "</div>"
      ],
      "text/plain": [
       "         keyword location                                               text  \\\n",
       "0     fatalities      USA  Our Deeds are the Reason of this #earthquake M...   \n",
       "1     fatalities      USA             Forest fire near La Ronge Sask. Canada   \n",
       "2     fatalities      USA  All residents asked to 'shelter in place' are ...   \n",
       "3     fatalities      USA  13,000 people receive #wildfires evacuation or...   \n",
       "4     fatalities      USA  Just got sent this photo from Ruby #Alaska as ...   \n",
       "...          ...      ...                                                ...   \n",
       "7608  fatalities      USA  Two giant cranes holding a bridge collapse int...   \n",
       "7609  fatalities      USA  @aria_ahrary @TheTawniest The out of control w...   \n",
       "7610  fatalities      USA  M1.94 [01:04 UTC]?5km S of Volcano Hawaii. htt...   \n",
       "7611  fatalities      USA  Police investigating after an e-bike collided ...   \n",
       "7612  fatalities      USA  The Latest: More Homes Razed by Northern Calif...   \n",
       "\n",
       "      target  \n",
       "0          1  \n",
       "1          1  \n",
       "2          1  \n",
       "3          1  \n",
       "4          1  \n",
       "...      ...  \n",
       "7608       1  \n",
       "7609       1  \n",
       "7610       1  \n",
       "7611       1  \n",
       "7612       1  \n",
       "\n",
       "[7613 rows x 4 columns]"
      ]
     },
     "execution_count": 24,
     "metadata": {},
     "output_type": "execute_result"
    }
   ],
   "source": [
    "# target column jisko humne predict krna hai 0 for no disaster 1 for disaster\n",
    "train_data"
   ]
  },
  {
   "cell_type": "code",
   "execution_count": 25,
   "id": "6969e940-1100-40a9-a920-d179f583d914",
   "metadata": {},
   "outputs": [
    {
     "data": {
      "text/plain": [
       "keyword     0\n",
       "location    0\n",
       "text        0\n",
       "target      0\n",
       "dtype: int64"
      ]
     },
     "execution_count": 25,
     "metadata": {},
     "output_type": "execute_result"
    }
   ],
   "source": [
    "train_data.isnull().sum()"
   ]
  },
  {
   "cell_type": "code",
   "execution_count": 26,
   "id": "3cdd528e-9398-40a2-ba73-55e1836074a8",
   "metadata": {},
   "outputs": [],
   "source": [
    "train_data['text'] = train_data['text'].str.lower()"
   ]
  },
  {
   "cell_type": "code",
   "execution_count": 27,
   "id": "8ba7cbb9-93df-41b7-a54e-f364adb423b9",
   "metadata": {},
   "outputs": [],
   "source": [
    "train_data['text'] = train_data['text'].str.replace(r'[^\\w\\s]', '', regex=True)"
   ]
  },
  {
   "cell_type": "markdown",
   "id": "c743d732-d2e9-4dce-8c35-a2f1665ad657",
   "metadata": {},
   "source": [
    "# Test data cleaning"
   ]
  },
  {
   "cell_type": "code",
   "execution_count": 29,
   "id": "6a05d807-e294-4030-817a-81b33f466a51",
   "metadata": {},
   "outputs": [
    {
     "data": {
      "text/html": [
       "<div>\n",
       "<style scoped>\n",
       "    .dataframe tbody tr th:only-of-type {\n",
       "        vertical-align: middle;\n",
       "    }\n",
       "\n",
       "    .dataframe tbody tr th {\n",
       "        vertical-align: top;\n",
       "    }\n",
       "\n",
       "    .dataframe thead th {\n",
       "        text-align: right;\n",
       "    }\n",
       "</style>\n",
       "<table border=\"1\" class=\"dataframe\">\n",
       "  <thead>\n",
       "    <tr style=\"text-align: right;\">\n",
       "      <th></th>\n",
       "      <th>id</th>\n",
       "      <th>keyword</th>\n",
       "      <th>location</th>\n",
       "      <th>text</th>\n",
       "    </tr>\n",
       "  </thead>\n",
       "  <tbody>\n",
       "    <tr>\n",
       "      <th>0</th>\n",
       "      <td>0</td>\n",
       "      <td>NaN</td>\n",
       "      <td>NaN</td>\n",
       "      <td>Just happened a terrible car crash</td>\n",
       "    </tr>\n",
       "    <tr>\n",
       "      <th>1</th>\n",
       "      <td>2</td>\n",
       "      <td>NaN</td>\n",
       "      <td>NaN</td>\n",
       "      <td>Heard about #earthquake is different cities, s...</td>\n",
       "    </tr>\n",
       "    <tr>\n",
       "      <th>2</th>\n",
       "      <td>3</td>\n",
       "      <td>NaN</td>\n",
       "      <td>NaN</td>\n",
       "      <td>there is a forest fire at spot pond, geese are...</td>\n",
       "    </tr>\n",
       "    <tr>\n",
       "      <th>3</th>\n",
       "      <td>9</td>\n",
       "      <td>NaN</td>\n",
       "      <td>NaN</td>\n",
       "      <td>Apocalypse lighting. #Spokane #wildfires</td>\n",
       "    </tr>\n",
       "    <tr>\n",
       "      <th>4</th>\n",
       "      <td>11</td>\n",
       "      <td>NaN</td>\n",
       "      <td>NaN</td>\n",
       "      <td>Typhoon Soudelor kills 28 in China and Taiwan</td>\n",
       "    </tr>\n",
       "    <tr>\n",
       "      <th>...</th>\n",
       "      <td>...</td>\n",
       "      <td>...</td>\n",
       "      <td>...</td>\n",
       "      <td>...</td>\n",
       "    </tr>\n",
       "    <tr>\n",
       "      <th>3258</th>\n",
       "      <td>10861</td>\n",
       "      <td>NaN</td>\n",
       "      <td>NaN</td>\n",
       "      <td>EARTHQUAKE SAFETY LOS ANGELES ÛÒ SAFETY FASTE...</td>\n",
       "    </tr>\n",
       "    <tr>\n",
       "      <th>3259</th>\n",
       "      <td>10865</td>\n",
       "      <td>NaN</td>\n",
       "      <td>NaN</td>\n",
       "      <td>Storm in RI worse than last hurricane. My city...</td>\n",
       "    </tr>\n",
       "    <tr>\n",
       "      <th>3260</th>\n",
       "      <td>10868</td>\n",
       "      <td>NaN</td>\n",
       "      <td>NaN</td>\n",
       "      <td>Green Line derailment in Chicago http://t.co/U...</td>\n",
       "    </tr>\n",
       "    <tr>\n",
       "      <th>3261</th>\n",
       "      <td>10874</td>\n",
       "      <td>NaN</td>\n",
       "      <td>NaN</td>\n",
       "      <td>MEG issues Hazardous Weather Outlook (HWO) htt...</td>\n",
       "    </tr>\n",
       "    <tr>\n",
       "      <th>3262</th>\n",
       "      <td>10875</td>\n",
       "      <td>NaN</td>\n",
       "      <td>NaN</td>\n",
       "      <td>#CityofCalgary has activated its Municipal Eme...</td>\n",
       "    </tr>\n",
       "  </tbody>\n",
       "</table>\n",
       "<p>3263 rows × 4 columns</p>\n",
       "</div>"
      ],
      "text/plain": [
       "         id keyword location  \\\n",
       "0         0     NaN      NaN   \n",
       "1         2     NaN      NaN   \n",
       "2         3     NaN      NaN   \n",
       "3         9     NaN      NaN   \n",
       "4        11     NaN      NaN   \n",
       "...     ...     ...      ...   \n",
       "3258  10861     NaN      NaN   \n",
       "3259  10865     NaN      NaN   \n",
       "3260  10868     NaN      NaN   \n",
       "3261  10874     NaN      NaN   \n",
       "3262  10875     NaN      NaN   \n",
       "\n",
       "                                                   text  \n",
       "0                    Just happened a terrible car crash  \n",
       "1     Heard about #earthquake is different cities, s...  \n",
       "2     there is a forest fire at spot pond, geese are...  \n",
       "3              Apocalypse lighting. #Spokane #wildfires  \n",
       "4         Typhoon Soudelor kills 28 in China and Taiwan  \n",
       "...                                                 ...  \n",
       "3258  EARTHQUAKE SAFETY LOS ANGELES ÛÒ SAFETY FASTE...  \n",
       "3259  Storm in RI worse than last hurricane. My city...  \n",
       "3260  Green Line derailment in Chicago http://t.co/U...  \n",
       "3261  MEG issues Hazardous Weather Outlook (HWO) htt...  \n",
       "3262  #CityofCalgary has activated its Municipal Eme...  \n",
       "\n",
       "[3263 rows x 4 columns]"
      ]
     },
     "execution_count": 29,
     "metadata": {},
     "output_type": "execute_result"
    }
   ],
   "source": [
    "test_data"
   ]
  },
  {
   "cell_type": "code",
   "execution_count": 30,
   "id": "dc6fa753-945a-4196-985e-f530dfa3e465",
   "metadata": {},
   "outputs": [],
   "source": [
    "test_data = test_data.drop(columns=['id'])"
   ]
  },
  {
   "cell_type": "code",
   "execution_count": 31,
   "id": "10b36371-8d66-46ea-bced-06fac5005fe3",
   "metadata": {},
   "outputs": [
    {
     "data": {
      "text/html": [
       "<div>\n",
       "<style scoped>\n",
       "    .dataframe tbody tr th:only-of-type {\n",
       "        vertical-align: middle;\n",
       "    }\n",
       "\n",
       "    .dataframe tbody tr th {\n",
       "        vertical-align: top;\n",
       "    }\n",
       "\n",
       "    .dataframe thead th {\n",
       "        text-align: right;\n",
       "    }\n",
       "</style>\n",
       "<table border=\"1\" class=\"dataframe\">\n",
       "  <thead>\n",
       "    <tr style=\"text-align: right;\">\n",
       "      <th></th>\n",
       "      <th>keyword</th>\n",
       "      <th>location</th>\n",
       "      <th>text</th>\n",
       "    </tr>\n",
       "  </thead>\n",
       "  <tbody>\n",
       "    <tr>\n",
       "      <th>0</th>\n",
       "      <td>NaN</td>\n",
       "      <td>NaN</td>\n",
       "      <td>Just happened a terrible car crash</td>\n",
       "    </tr>\n",
       "    <tr>\n",
       "      <th>1</th>\n",
       "      <td>NaN</td>\n",
       "      <td>NaN</td>\n",
       "      <td>Heard about #earthquake is different cities, s...</td>\n",
       "    </tr>\n",
       "    <tr>\n",
       "      <th>2</th>\n",
       "      <td>NaN</td>\n",
       "      <td>NaN</td>\n",
       "      <td>there is a forest fire at spot pond, geese are...</td>\n",
       "    </tr>\n",
       "    <tr>\n",
       "      <th>3</th>\n",
       "      <td>NaN</td>\n",
       "      <td>NaN</td>\n",
       "      <td>Apocalypse lighting. #Spokane #wildfires</td>\n",
       "    </tr>\n",
       "    <tr>\n",
       "      <th>4</th>\n",
       "      <td>NaN</td>\n",
       "      <td>NaN</td>\n",
       "      <td>Typhoon Soudelor kills 28 in China and Taiwan</td>\n",
       "    </tr>\n",
       "    <tr>\n",
       "      <th>...</th>\n",
       "      <td>...</td>\n",
       "      <td>...</td>\n",
       "      <td>...</td>\n",
       "    </tr>\n",
       "    <tr>\n",
       "      <th>3258</th>\n",
       "      <td>NaN</td>\n",
       "      <td>NaN</td>\n",
       "      <td>EARTHQUAKE SAFETY LOS ANGELES ÛÒ SAFETY FASTE...</td>\n",
       "    </tr>\n",
       "    <tr>\n",
       "      <th>3259</th>\n",
       "      <td>NaN</td>\n",
       "      <td>NaN</td>\n",
       "      <td>Storm in RI worse than last hurricane. My city...</td>\n",
       "    </tr>\n",
       "    <tr>\n",
       "      <th>3260</th>\n",
       "      <td>NaN</td>\n",
       "      <td>NaN</td>\n",
       "      <td>Green Line derailment in Chicago http://t.co/U...</td>\n",
       "    </tr>\n",
       "    <tr>\n",
       "      <th>3261</th>\n",
       "      <td>NaN</td>\n",
       "      <td>NaN</td>\n",
       "      <td>MEG issues Hazardous Weather Outlook (HWO) htt...</td>\n",
       "    </tr>\n",
       "    <tr>\n",
       "      <th>3262</th>\n",
       "      <td>NaN</td>\n",
       "      <td>NaN</td>\n",
       "      <td>#CityofCalgary has activated its Municipal Eme...</td>\n",
       "    </tr>\n",
       "  </tbody>\n",
       "</table>\n",
       "<p>3263 rows × 3 columns</p>\n",
       "</div>"
      ],
      "text/plain": [
       "     keyword location                                               text\n",
       "0        NaN      NaN                 Just happened a terrible car crash\n",
       "1        NaN      NaN  Heard about #earthquake is different cities, s...\n",
       "2        NaN      NaN  there is a forest fire at spot pond, geese are...\n",
       "3        NaN      NaN           Apocalypse lighting. #Spokane #wildfires\n",
       "4        NaN      NaN      Typhoon Soudelor kills 28 in China and Taiwan\n",
       "...      ...      ...                                                ...\n",
       "3258     NaN      NaN  EARTHQUAKE SAFETY LOS ANGELES ÛÒ SAFETY FASTE...\n",
       "3259     NaN      NaN  Storm in RI worse than last hurricane. My city...\n",
       "3260     NaN      NaN  Green Line derailment in Chicago http://t.co/U...\n",
       "3261     NaN      NaN  MEG issues Hazardous Weather Outlook (HWO) htt...\n",
       "3262     NaN      NaN  #CityofCalgary has activated its Municipal Eme...\n",
       "\n",
       "[3263 rows x 3 columns]"
      ]
     },
     "execution_count": 31,
     "metadata": {},
     "output_type": "execute_result"
    }
   ],
   "source": [
    "test_data "
   ]
  },
  {
   "cell_type": "code",
   "execution_count": 32,
   "id": "26979375-ebb7-41a2-a509-0895e13162c9",
   "metadata": {},
   "outputs": [
    {
     "data": {
      "text/plain": [
       "keyword       26\n",
       "location    1105\n",
       "text           0\n",
       "dtype: int64"
      ]
     },
     "execution_count": 32,
     "metadata": {},
     "output_type": "execute_result"
    }
   ],
   "source": [
    "test_data.isnull().sum()"
   ]
  },
  {
   "cell_type": "code",
   "execution_count": 33,
   "id": "b10516e7-58b4-42e0-bcb2-279a2b21677f",
   "metadata": {},
   "outputs": [],
   "source": [
    "test_data['text'] = test_data['text'].str.lower()"
   ]
  },
  {
   "cell_type": "code",
   "execution_count": 34,
   "id": "f97f5c3e-27b9-4430-80c9-b33f2c424795",
   "metadata": {},
   "outputs": [],
   "source": [
    "test_data['text'] = test_data['text'].str.replace(r'[^\\w\\s]', '', regex=True)"
   ]
  },
  {
   "cell_type": "code",
   "execution_count": 35,
   "id": "b57ce5f9-7fec-48f3-811b-35a41dd5ea34",
   "metadata": {},
   "outputs": [
    {
     "data": {
      "text/html": [
       "<div>\n",
       "<style scoped>\n",
       "    .dataframe tbody tr th:only-of-type {\n",
       "        vertical-align: middle;\n",
       "    }\n",
       "\n",
       "    .dataframe tbody tr th {\n",
       "        vertical-align: top;\n",
       "    }\n",
       "\n",
       "    .dataframe thead th {\n",
       "        text-align: right;\n",
       "    }\n",
       "</style>\n",
       "<table border=\"1\" class=\"dataframe\">\n",
       "  <thead>\n",
       "    <tr style=\"text-align: right;\">\n",
       "      <th></th>\n",
       "      <th>keyword</th>\n",
       "      <th>location</th>\n",
       "      <th>text</th>\n",
       "    </tr>\n",
       "  </thead>\n",
       "  <tbody>\n",
       "    <tr>\n",
       "      <th>0</th>\n",
       "      <td>NaN</td>\n",
       "      <td>NaN</td>\n",
       "      <td>just happened a terrible car crash</td>\n",
       "    </tr>\n",
       "    <tr>\n",
       "      <th>1</th>\n",
       "      <td>NaN</td>\n",
       "      <td>NaN</td>\n",
       "      <td>heard about earthquake is different cities sta...</td>\n",
       "    </tr>\n",
       "    <tr>\n",
       "      <th>2</th>\n",
       "      <td>NaN</td>\n",
       "      <td>NaN</td>\n",
       "      <td>there is a forest fire at spot pond geese are ...</td>\n",
       "    </tr>\n",
       "    <tr>\n",
       "      <th>3</th>\n",
       "      <td>NaN</td>\n",
       "      <td>NaN</td>\n",
       "      <td>apocalypse lighting spokane wildfires</td>\n",
       "    </tr>\n",
       "    <tr>\n",
       "      <th>4</th>\n",
       "      <td>NaN</td>\n",
       "      <td>NaN</td>\n",
       "      <td>typhoon soudelor kills 28 in china and taiwan</td>\n",
       "    </tr>\n",
       "    <tr>\n",
       "      <th>...</th>\n",
       "      <td>...</td>\n",
       "      <td>...</td>\n",
       "      <td>...</td>\n",
       "    </tr>\n",
       "    <tr>\n",
       "      <th>3258</th>\n",
       "      <td>NaN</td>\n",
       "      <td>NaN</td>\n",
       "      <td>earthquake safety los angeles ûò safety fasten...</td>\n",
       "    </tr>\n",
       "    <tr>\n",
       "      <th>3259</th>\n",
       "      <td>NaN</td>\n",
       "      <td>NaN</td>\n",
       "      <td>storm in ri worse than last hurricane my citya...</td>\n",
       "    </tr>\n",
       "    <tr>\n",
       "      <th>3260</th>\n",
       "      <td>NaN</td>\n",
       "      <td>NaN</td>\n",
       "      <td>green line derailment in chicago httptcoutbxlc...</td>\n",
       "    </tr>\n",
       "    <tr>\n",
       "      <th>3261</th>\n",
       "      <td>NaN</td>\n",
       "      <td>NaN</td>\n",
       "      <td>meg issues hazardous weather outlook hwo httpt...</td>\n",
       "    </tr>\n",
       "    <tr>\n",
       "      <th>3262</th>\n",
       "      <td>NaN</td>\n",
       "      <td>NaN</td>\n",
       "      <td>cityofcalgary has activated its municipal emer...</td>\n",
       "    </tr>\n",
       "  </tbody>\n",
       "</table>\n",
       "<p>3263 rows × 3 columns</p>\n",
       "</div>"
      ],
      "text/plain": [
       "     keyword location                                               text\n",
       "0        NaN      NaN                 just happened a terrible car crash\n",
       "1        NaN      NaN  heard about earthquake is different cities sta...\n",
       "2        NaN      NaN  there is a forest fire at spot pond geese are ...\n",
       "3        NaN      NaN              apocalypse lighting spokane wildfires\n",
       "4        NaN      NaN      typhoon soudelor kills 28 in china and taiwan\n",
       "...      ...      ...                                                ...\n",
       "3258     NaN      NaN  earthquake safety los angeles ûò safety fasten...\n",
       "3259     NaN      NaN  storm in ri worse than last hurricane my citya...\n",
       "3260     NaN      NaN  green line derailment in chicago httptcoutbxlc...\n",
       "3261     NaN      NaN  meg issues hazardous weather outlook hwo httpt...\n",
       "3262     NaN      NaN  cityofcalgary has activated its municipal emer...\n",
       "\n",
       "[3263 rows x 3 columns]"
      ]
     },
     "execution_count": 35,
     "metadata": {},
     "output_type": "execute_result"
    }
   ],
   "source": [
    "test_data"
   ]
  },
  {
   "cell_type": "code",
   "execution_count": 36,
   "id": "ee51fd2d-5eee-4be5-b9fd-edd62317e2e5",
   "metadata": {},
   "outputs": [
    {
     "name": "stdout",
     "output_type": "stream",
     "text": [
      "Categorical missing values handled.\n"
     ]
    }
   ],
   "source": [
    "# Handle missing values in categorical data,iloc mtlb aap rows column ko unke index number se accsess kr skte hai integer location base indexing\n",
    "categorical_columns = test_data.select_dtypes(include=['object']).columns\n",
    "\n",
    "# Fill missing values with the most frequent value\n",
    "test_data[categorical_columns] = test_data[categorical_columns].fillna(test_data[categorical_columns].mode().iloc[0])\n",
    "\n",
    "print(\"Categorical missing values handled.\")"
   ]
  },
  {
   "cell_type": "code",
   "execution_count": 37,
   "id": "4df6de52-515f-4157-8a42-c771caed0d4d",
   "metadata": {},
   "outputs": [
    {
     "data": {
      "text/html": [
       "<div>\n",
       "<style scoped>\n",
       "    .dataframe tbody tr th:only-of-type {\n",
       "        vertical-align: middle;\n",
       "    }\n",
       "\n",
       "    .dataframe tbody tr th {\n",
       "        vertical-align: top;\n",
       "    }\n",
       "\n",
       "    .dataframe thead th {\n",
       "        text-align: right;\n",
       "    }\n",
       "</style>\n",
       "<table border=\"1\" class=\"dataframe\">\n",
       "  <thead>\n",
       "    <tr style=\"text-align: right;\">\n",
       "      <th></th>\n",
       "      <th>keyword</th>\n",
       "      <th>location</th>\n",
       "      <th>text</th>\n",
       "    </tr>\n",
       "  </thead>\n",
       "  <tbody>\n",
       "    <tr>\n",
       "      <th>0</th>\n",
       "      <td>deluged</td>\n",
       "      <td>New York</td>\n",
       "      <td>just happened a terrible car crash</td>\n",
       "    </tr>\n",
       "    <tr>\n",
       "      <th>1</th>\n",
       "      <td>deluged</td>\n",
       "      <td>New York</td>\n",
       "      <td>heard about earthquake is different cities sta...</td>\n",
       "    </tr>\n",
       "    <tr>\n",
       "      <th>2</th>\n",
       "      <td>deluged</td>\n",
       "      <td>New York</td>\n",
       "      <td>there is a forest fire at spot pond geese are ...</td>\n",
       "    </tr>\n",
       "    <tr>\n",
       "      <th>3</th>\n",
       "      <td>deluged</td>\n",
       "      <td>New York</td>\n",
       "      <td>apocalypse lighting spokane wildfires</td>\n",
       "    </tr>\n",
       "    <tr>\n",
       "      <th>4</th>\n",
       "      <td>deluged</td>\n",
       "      <td>New York</td>\n",
       "      <td>typhoon soudelor kills 28 in china and taiwan</td>\n",
       "    </tr>\n",
       "    <tr>\n",
       "      <th>...</th>\n",
       "      <td>...</td>\n",
       "      <td>...</td>\n",
       "      <td>...</td>\n",
       "    </tr>\n",
       "    <tr>\n",
       "      <th>3258</th>\n",
       "      <td>deluged</td>\n",
       "      <td>New York</td>\n",
       "      <td>earthquake safety los angeles ûò safety fasten...</td>\n",
       "    </tr>\n",
       "    <tr>\n",
       "      <th>3259</th>\n",
       "      <td>deluged</td>\n",
       "      <td>New York</td>\n",
       "      <td>storm in ri worse than last hurricane my citya...</td>\n",
       "    </tr>\n",
       "    <tr>\n",
       "      <th>3260</th>\n",
       "      <td>deluged</td>\n",
       "      <td>New York</td>\n",
       "      <td>green line derailment in chicago httptcoutbxlc...</td>\n",
       "    </tr>\n",
       "    <tr>\n",
       "      <th>3261</th>\n",
       "      <td>deluged</td>\n",
       "      <td>New York</td>\n",
       "      <td>meg issues hazardous weather outlook hwo httpt...</td>\n",
       "    </tr>\n",
       "    <tr>\n",
       "      <th>3262</th>\n",
       "      <td>deluged</td>\n",
       "      <td>New York</td>\n",
       "      <td>cityofcalgary has activated its municipal emer...</td>\n",
       "    </tr>\n",
       "  </tbody>\n",
       "</table>\n",
       "<p>3263 rows × 3 columns</p>\n",
       "</div>"
      ],
      "text/plain": [
       "      keyword  location                                               text\n",
       "0     deluged  New York                 just happened a terrible car crash\n",
       "1     deluged  New York  heard about earthquake is different cities sta...\n",
       "2     deluged  New York  there is a forest fire at spot pond geese are ...\n",
       "3     deluged  New York              apocalypse lighting spokane wildfires\n",
       "4     deluged  New York      typhoon soudelor kills 28 in china and taiwan\n",
       "...       ...       ...                                                ...\n",
       "3258  deluged  New York  earthquake safety los angeles ûò safety fasten...\n",
       "3259  deluged  New York  storm in ri worse than last hurricane my citya...\n",
       "3260  deluged  New York  green line derailment in chicago httptcoutbxlc...\n",
       "3261  deluged  New York  meg issues hazardous weather outlook hwo httpt...\n",
       "3262  deluged  New York  cityofcalgary has activated its municipal emer...\n",
       "\n",
       "[3263 rows x 3 columns]"
      ]
     },
     "execution_count": 37,
     "metadata": {},
     "output_type": "execute_result"
    }
   ],
   "source": [
    "test_data"
   ]
  },
  {
   "cell_type": "code",
   "execution_count": 38,
   "id": "19be3033-78bc-4e9a-b526-b66b5f417de5",
   "metadata": {},
   "outputs": [],
   "source": [
    "# Example for saving processed train, test, and sample datasets\n",
    "\n",
    "import os\n",
    "\n",
    "processed_data_path ='C:\\\\Users\\\\acer\\\\Disaster_management_system\\\\Data\\\\processed_data\\\\'\n",
    "\n",
    "\n",
    "\n",
    "def save_processed_data(df, processed_datafile):\n",
    "    # Ensure the directory exists\n",
    "    os.makedirs(processed_data_path, exist_ok=True)\n",
    "    \n",
    "    # Save the dataframe to the specified file path\n",
    "    df.to_csv(f'{processed_data_path}{processed_datafile}', index=False)\n",
    "\n",
    "# Process and Save Each Dataset\n",
    "save_processed_data(train_data, 'processed_train_data.csv')\n",
    "save_processed_data(test_data, 'processed_test_data.csv')\n",
    "save_processed_data(sample_submission, 'processed_sample_submission.csv')\n"
   ]
  },
  {
   "cell_type": "markdown",
   "id": "9ced5c6a-2771-4342-a58f-ad6af9a71c67",
   "metadata": {},
   "source": [
    "# Feature engineering"
   ]
  },
  {
   "cell_type": "markdown",
   "id": "09819024-3215-4583-bc2a-ce82382966c7",
   "metadata": {},
   "source": [
    "# Model Selection and Training:"
   ]
  },
  {
   "cell_type": "code",
   "execution_count": 41,
   "id": "36977f30-6005-48fb-b36c-265ae07bf8a5",
   "metadata": {},
   "outputs": [],
   "source": [
    "#Frequency-Inverse Document Frequency (TF-IDF).\n",
    "from sklearn.compose import ColumnTransformer\n",
    "from sklearn.preprocessing import OneHotEncoder\n",
    "from sklearn.pipeline import Pipeline\n",
    "from sklearn.feature_extraction.text import TfidfVectorizer\n",
    "from sklearn.ensemble import RandomForestRegressor\n",
    "\n",
    "categorical_columns = ['keyword', 'location']\n",
    "text_column = 'text'\n",
    "categorical_transformer = OneHotEncoder(handle_unknown='ignore')\n",
    "\n",
    "\n",
    "# Create the ColumnTransformer with OneHotEncoder for categorical features\n",
    "preprocessor = ColumnTransformer(\n",
    "    transformers=[\n",
    "        ('cat',  categorical_transformer, categorical_columns),\n",
    "        ('text', TfidfVectorizer(), text_column)\n",
    "    ],\n",
    "    remainder='passthrough',  # Keep other columns as they are\n",
    "    force_int_remainder_cols=False  # Use column names for remainder columns\n",
    ")\n",
    "\n",
    "# Create the model pipeline\n",
    "pipeline  = Pipeline(steps=[\n",
    "    ('preprocessor', preprocessor),\n",
    "    ('model', RandomForestRegressor())\n",
    "])"
   ]
  },
  {
   "cell_type": "code",
   "execution_count": 42,
   "id": "adf8fa90-4aae-47c8-bddb-21d651044e75",
   "metadata": {},
   "outputs": [],
   "source": [
    "# Separate features and target from train_data\n",
    "from sklearn.model_selection import train_test_split\n",
    "\n",
    "X = train_data.drop(columns=['target'])  # Features\n",
    "Y = train_data['target']  # Target\n",
    "\n",
    "X_train, X_test, Y_train, Y_test = train_test_split(X, Y, test_size=0.2, random_state=42)"
   ]
  },
  {
   "cell_type": "code",
   "execution_count": 43,
   "id": "f4900ef7-0983-4798-b533-fdfb56b3508d",
   "metadata": {},
   "outputs": [
    {
     "data": {
      "text/html": [
       "<style>#sk-container-id-1 {\n",
       "  /* Definition of color scheme common for light and dark mode */\n",
       "  --sklearn-color-text: black;\n",
       "  --sklearn-color-line: gray;\n",
       "  /* Definition of color scheme for unfitted estimators */\n",
       "  --sklearn-color-unfitted-level-0: #fff5e6;\n",
       "  --sklearn-color-unfitted-level-1: #f6e4d2;\n",
       "  --sklearn-color-unfitted-level-2: #ffe0b3;\n",
       "  --sklearn-color-unfitted-level-3: chocolate;\n",
       "  /* Definition of color scheme for fitted estimators */\n",
       "  --sklearn-color-fitted-level-0: #f0f8ff;\n",
       "  --sklearn-color-fitted-level-1: #d4ebff;\n",
       "  --sklearn-color-fitted-level-2: #b3dbfd;\n",
       "  --sklearn-color-fitted-level-3: cornflowerblue;\n",
       "\n",
       "  /* Specific color for light theme */\n",
       "  --sklearn-color-text-on-default-background: var(--sg-text-color, var(--theme-code-foreground, var(--jp-content-font-color1, black)));\n",
       "  --sklearn-color-background: var(--sg-background-color, var(--theme-background, var(--jp-layout-color0, white)));\n",
       "  --sklearn-color-border-box: var(--sg-text-color, var(--theme-code-foreground, var(--jp-content-font-color1, black)));\n",
       "  --sklearn-color-icon: #696969;\n",
       "\n",
       "  @media (prefers-color-scheme: dark) {\n",
       "    /* Redefinition of color scheme for dark theme */\n",
       "    --sklearn-color-text-on-default-background: var(--sg-text-color, var(--theme-code-foreground, var(--jp-content-font-color1, white)));\n",
       "    --sklearn-color-background: var(--sg-background-color, var(--theme-background, var(--jp-layout-color0, #111)));\n",
       "    --sklearn-color-border-box: var(--sg-text-color, var(--theme-code-foreground, var(--jp-content-font-color1, white)));\n",
       "    --sklearn-color-icon: #878787;\n",
       "  }\n",
       "}\n",
       "\n",
       "#sk-container-id-1 {\n",
       "  color: var(--sklearn-color-text);\n",
       "}\n",
       "\n",
       "#sk-container-id-1 pre {\n",
       "  padding: 0;\n",
       "}\n",
       "\n",
       "#sk-container-id-1 input.sk-hidden--visually {\n",
       "  border: 0;\n",
       "  clip: rect(1px 1px 1px 1px);\n",
       "  clip: rect(1px, 1px, 1px, 1px);\n",
       "  height: 1px;\n",
       "  margin: -1px;\n",
       "  overflow: hidden;\n",
       "  padding: 0;\n",
       "  position: absolute;\n",
       "  width: 1px;\n",
       "}\n",
       "\n",
       "#sk-container-id-1 div.sk-dashed-wrapped {\n",
       "  border: 1px dashed var(--sklearn-color-line);\n",
       "  margin: 0 0.4em 0.5em 0.4em;\n",
       "  box-sizing: border-box;\n",
       "  padding-bottom: 0.4em;\n",
       "  background-color: var(--sklearn-color-background);\n",
       "}\n",
       "\n",
       "#sk-container-id-1 div.sk-container {\n",
       "  /* jupyter's `normalize.less` sets `[hidden] { display: none; }`\n",
       "     but bootstrap.min.css set `[hidden] { display: none !important; }`\n",
       "     so we also need the `!important` here to be able to override the\n",
       "     default hidden behavior on the sphinx rendered scikit-learn.org.\n",
       "     See: https://github.com/scikit-learn/scikit-learn/issues/21755 */\n",
       "  display: inline-block !important;\n",
       "  position: relative;\n",
       "}\n",
       "\n",
       "#sk-container-id-1 div.sk-text-repr-fallback {\n",
       "  display: none;\n",
       "}\n",
       "\n",
       "div.sk-parallel-item,\n",
       "div.sk-serial,\n",
       "div.sk-item {\n",
       "  /* draw centered vertical line to link estimators */\n",
       "  background-image: linear-gradient(var(--sklearn-color-text-on-default-background), var(--sklearn-color-text-on-default-background));\n",
       "  background-size: 2px 100%;\n",
       "  background-repeat: no-repeat;\n",
       "  background-position: center center;\n",
       "}\n",
       "\n",
       "/* Parallel-specific style estimator block */\n",
       "\n",
       "#sk-container-id-1 div.sk-parallel-item::after {\n",
       "  content: \"\";\n",
       "  width: 100%;\n",
       "  border-bottom: 2px solid var(--sklearn-color-text-on-default-background);\n",
       "  flex-grow: 1;\n",
       "}\n",
       "\n",
       "#sk-container-id-1 div.sk-parallel {\n",
       "  display: flex;\n",
       "  align-items: stretch;\n",
       "  justify-content: center;\n",
       "  background-color: var(--sklearn-color-background);\n",
       "  position: relative;\n",
       "}\n",
       "\n",
       "#sk-container-id-1 div.sk-parallel-item {\n",
       "  display: flex;\n",
       "  flex-direction: column;\n",
       "}\n",
       "\n",
       "#sk-container-id-1 div.sk-parallel-item:first-child::after {\n",
       "  align-self: flex-end;\n",
       "  width: 50%;\n",
       "}\n",
       "\n",
       "#sk-container-id-1 div.sk-parallel-item:last-child::after {\n",
       "  align-self: flex-start;\n",
       "  width: 50%;\n",
       "}\n",
       "\n",
       "#sk-container-id-1 div.sk-parallel-item:only-child::after {\n",
       "  width: 0;\n",
       "}\n",
       "\n",
       "/* Serial-specific style estimator block */\n",
       "\n",
       "#sk-container-id-1 div.sk-serial {\n",
       "  display: flex;\n",
       "  flex-direction: column;\n",
       "  align-items: center;\n",
       "  background-color: var(--sklearn-color-background);\n",
       "  padding-right: 1em;\n",
       "  padding-left: 1em;\n",
       "}\n",
       "\n",
       "\n",
       "/* Toggleable style: style used for estimator/Pipeline/ColumnTransformer box that is\n",
       "clickable and can be expanded/collapsed.\n",
       "- Pipeline and ColumnTransformer use this feature and define the default style\n",
       "- Estimators will overwrite some part of the style using the `sk-estimator` class\n",
       "*/\n",
       "\n",
       "/* Pipeline and ColumnTransformer style (default) */\n",
       "\n",
       "#sk-container-id-1 div.sk-toggleable {\n",
       "  /* Default theme specific background. It is overwritten whether we have a\n",
       "  specific estimator or a Pipeline/ColumnTransformer */\n",
       "  background-color: var(--sklearn-color-background);\n",
       "}\n",
       "\n",
       "/* Toggleable label */\n",
       "#sk-container-id-1 label.sk-toggleable__label {\n",
       "  cursor: pointer;\n",
       "  display: block;\n",
       "  width: 100%;\n",
       "  margin-bottom: 0;\n",
       "  padding: 0.5em;\n",
       "  box-sizing: border-box;\n",
       "  text-align: center;\n",
       "}\n",
       "\n",
       "#sk-container-id-1 label.sk-toggleable__label-arrow:before {\n",
       "  /* Arrow on the left of the label */\n",
       "  content: \"▸\";\n",
       "  float: left;\n",
       "  margin-right: 0.25em;\n",
       "  color: var(--sklearn-color-icon);\n",
       "}\n",
       "\n",
       "#sk-container-id-1 label.sk-toggleable__label-arrow:hover:before {\n",
       "  color: var(--sklearn-color-text);\n",
       "}\n",
       "\n",
       "/* Toggleable content - dropdown */\n",
       "\n",
       "#sk-container-id-1 div.sk-toggleable__content {\n",
       "  max-height: 0;\n",
       "  max-width: 0;\n",
       "  overflow: hidden;\n",
       "  text-align: left;\n",
       "  /* unfitted */\n",
       "  background-color: var(--sklearn-color-unfitted-level-0);\n",
       "}\n",
       "\n",
       "#sk-container-id-1 div.sk-toggleable__content.fitted {\n",
       "  /* fitted */\n",
       "  background-color: var(--sklearn-color-fitted-level-0);\n",
       "}\n",
       "\n",
       "#sk-container-id-1 div.sk-toggleable__content pre {\n",
       "  margin: 0.2em;\n",
       "  border-radius: 0.25em;\n",
       "  color: var(--sklearn-color-text);\n",
       "  /* unfitted */\n",
       "  background-color: var(--sklearn-color-unfitted-level-0);\n",
       "}\n",
       "\n",
       "#sk-container-id-1 div.sk-toggleable__content.fitted pre {\n",
       "  /* unfitted */\n",
       "  background-color: var(--sklearn-color-fitted-level-0);\n",
       "}\n",
       "\n",
       "#sk-container-id-1 input.sk-toggleable__control:checked~div.sk-toggleable__content {\n",
       "  /* Expand drop-down */\n",
       "  max-height: 200px;\n",
       "  max-width: 100%;\n",
       "  overflow: auto;\n",
       "}\n",
       "\n",
       "#sk-container-id-1 input.sk-toggleable__control:checked~label.sk-toggleable__label-arrow:before {\n",
       "  content: \"▾\";\n",
       "}\n",
       "\n",
       "/* Pipeline/ColumnTransformer-specific style */\n",
       "\n",
       "#sk-container-id-1 div.sk-label input.sk-toggleable__control:checked~label.sk-toggleable__label {\n",
       "  color: var(--sklearn-color-text);\n",
       "  background-color: var(--sklearn-color-unfitted-level-2);\n",
       "}\n",
       "\n",
       "#sk-container-id-1 div.sk-label.fitted input.sk-toggleable__control:checked~label.sk-toggleable__label {\n",
       "  background-color: var(--sklearn-color-fitted-level-2);\n",
       "}\n",
       "\n",
       "/* Estimator-specific style */\n",
       "\n",
       "/* Colorize estimator box */\n",
       "#sk-container-id-1 div.sk-estimator input.sk-toggleable__control:checked~label.sk-toggleable__label {\n",
       "  /* unfitted */\n",
       "  background-color: var(--sklearn-color-unfitted-level-2);\n",
       "}\n",
       "\n",
       "#sk-container-id-1 div.sk-estimator.fitted input.sk-toggleable__control:checked~label.sk-toggleable__label {\n",
       "  /* fitted */\n",
       "  background-color: var(--sklearn-color-fitted-level-2);\n",
       "}\n",
       "\n",
       "#sk-container-id-1 div.sk-label label.sk-toggleable__label,\n",
       "#sk-container-id-1 div.sk-label label {\n",
       "  /* The background is the default theme color */\n",
       "  color: var(--sklearn-color-text-on-default-background);\n",
       "}\n",
       "\n",
       "/* On hover, darken the color of the background */\n",
       "#sk-container-id-1 div.sk-label:hover label.sk-toggleable__label {\n",
       "  color: var(--sklearn-color-text);\n",
       "  background-color: var(--sklearn-color-unfitted-level-2);\n",
       "}\n",
       "\n",
       "/* Label box, darken color on hover, fitted */\n",
       "#sk-container-id-1 div.sk-label.fitted:hover label.sk-toggleable__label.fitted {\n",
       "  color: var(--sklearn-color-text);\n",
       "  background-color: var(--sklearn-color-fitted-level-2);\n",
       "}\n",
       "\n",
       "/* Estimator label */\n",
       "\n",
       "#sk-container-id-1 div.sk-label label {\n",
       "  font-family: monospace;\n",
       "  font-weight: bold;\n",
       "  display: inline-block;\n",
       "  line-height: 1.2em;\n",
       "}\n",
       "\n",
       "#sk-container-id-1 div.sk-label-container {\n",
       "  text-align: center;\n",
       "}\n",
       "\n",
       "/* Estimator-specific */\n",
       "#sk-container-id-1 div.sk-estimator {\n",
       "  font-family: monospace;\n",
       "  border: 1px dotted var(--sklearn-color-border-box);\n",
       "  border-radius: 0.25em;\n",
       "  box-sizing: border-box;\n",
       "  margin-bottom: 0.5em;\n",
       "  /* unfitted */\n",
       "  background-color: var(--sklearn-color-unfitted-level-0);\n",
       "}\n",
       "\n",
       "#sk-container-id-1 div.sk-estimator.fitted {\n",
       "  /* fitted */\n",
       "  background-color: var(--sklearn-color-fitted-level-0);\n",
       "}\n",
       "\n",
       "/* on hover */\n",
       "#sk-container-id-1 div.sk-estimator:hover {\n",
       "  /* unfitted */\n",
       "  background-color: var(--sklearn-color-unfitted-level-2);\n",
       "}\n",
       "\n",
       "#sk-container-id-1 div.sk-estimator.fitted:hover {\n",
       "  /* fitted */\n",
       "  background-color: var(--sklearn-color-fitted-level-2);\n",
       "}\n",
       "\n",
       "/* Specification for estimator info (e.g. \"i\" and \"?\") */\n",
       "\n",
       "/* Common style for \"i\" and \"?\" */\n",
       "\n",
       ".sk-estimator-doc-link,\n",
       "a:link.sk-estimator-doc-link,\n",
       "a:visited.sk-estimator-doc-link {\n",
       "  float: right;\n",
       "  font-size: smaller;\n",
       "  line-height: 1em;\n",
       "  font-family: monospace;\n",
       "  background-color: var(--sklearn-color-background);\n",
       "  border-radius: 1em;\n",
       "  height: 1em;\n",
       "  width: 1em;\n",
       "  text-decoration: none !important;\n",
       "  margin-left: 1ex;\n",
       "  /* unfitted */\n",
       "  border: var(--sklearn-color-unfitted-level-1) 1pt solid;\n",
       "  color: var(--sklearn-color-unfitted-level-1);\n",
       "}\n",
       "\n",
       ".sk-estimator-doc-link.fitted,\n",
       "a:link.sk-estimator-doc-link.fitted,\n",
       "a:visited.sk-estimator-doc-link.fitted {\n",
       "  /* fitted */\n",
       "  border: var(--sklearn-color-fitted-level-1) 1pt solid;\n",
       "  color: var(--sklearn-color-fitted-level-1);\n",
       "}\n",
       "\n",
       "/* On hover */\n",
       "div.sk-estimator:hover .sk-estimator-doc-link:hover,\n",
       ".sk-estimator-doc-link:hover,\n",
       "div.sk-label-container:hover .sk-estimator-doc-link:hover,\n",
       ".sk-estimator-doc-link:hover {\n",
       "  /* unfitted */\n",
       "  background-color: var(--sklearn-color-unfitted-level-3);\n",
       "  color: var(--sklearn-color-background);\n",
       "  text-decoration: none;\n",
       "}\n",
       "\n",
       "div.sk-estimator.fitted:hover .sk-estimator-doc-link.fitted:hover,\n",
       ".sk-estimator-doc-link.fitted:hover,\n",
       "div.sk-label-container:hover .sk-estimator-doc-link.fitted:hover,\n",
       ".sk-estimator-doc-link.fitted:hover {\n",
       "  /* fitted */\n",
       "  background-color: var(--sklearn-color-fitted-level-3);\n",
       "  color: var(--sklearn-color-background);\n",
       "  text-decoration: none;\n",
       "}\n",
       "\n",
       "/* Span, style for the box shown on hovering the info icon */\n",
       ".sk-estimator-doc-link span {\n",
       "  display: none;\n",
       "  z-index: 9999;\n",
       "  position: relative;\n",
       "  font-weight: normal;\n",
       "  right: .2ex;\n",
       "  padding: .5ex;\n",
       "  margin: .5ex;\n",
       "  width: min-content;\n",
       "  min-width: 20ex;\n",
       "  max-width: 50ex;\n",
       "  color: var(--sklearn-color-text);\n",
       "  box-shadow: 2pt 2pt 4pt #999;\n",
       "  /* unfitted */\n",
       "  background: var(--sklearn-color-unfitted-level-0);\n",
       "  border: .5pt solid var(--sklearn-color-unfitted-level-3);\n",
       "}\n",
       "\n",
       ".sk-estimator-doc-link.fitted span {\n",
       "  /* fitted */\n",
       "  background: var(--sklearn-color-fitted-level-0);\n",
       "  border: var(--sklearn-color-fitted-level-3);\n",
       "}\n",
       "\n",
       ".sk-estimator-doc-link:hover span {\n",
       "  display: block;\n",
       "}\n",
       "\n",
       "/* \"?\"-specific style due to the `<a>` HTML tag */\n",
       "\n",
       "#sk-container-id-1 a.estimator_doc_link {\n",
       "  float: right;\n",
       "  font-size: 1rem;\n",
       "  line-height: 1em;\n",
       "  font-family: monospace;\n",
       "  background-color: var(--sklearn-color-background);\n",
       "  border-radius: 1rem;\n",
       "  height: 1rem;\n",
       "  width: 1rem;\n",
       "  text-decoration: none;\n",
       "  /* unfitted */\n",
       "  color: var(--sklearn-color-unfitted-level-1);\n",
       "  border: var(--sklearn-color-unfitted-level-1) 1pt solid;\n",
       "}\n",
       "\n",
       "#sk-container-id-1 a.estimator_doc_link.fitted {\n",
       "  /* fitted */\n",
       "  border: var(--sklearn-color-fitted-level-1) 1pt solid;\n",
       "  color: var(--sklearn-color-fitted-level-1);\n",
       "}\n",
       "\n",
       "/* On hover */\n",
       "#sk-container-id-1 a.estimator_doc_link:hover {\n",
       "  /* unfitted */\n",
       "  background-color: var(--sklearn-color-unfitted-level-3);\n",
       "  color: var(--sklearn-color-background);\n",
       "  text-decoration: none;\n",
       "}\n",
       "\n",
       "#sk-container-id-1 a.estimator_doc_link.fitted:hover {\n",
       "  /* fitted */\n",
       "  background-color: var(--sklearn-color-fitted-level-3);\n",
       "}\n",
       "</style><div id=\"sk-container-id-1\" class=\"sk-top-container\"><div class=\"sk-text-repr-fallback\"><pre>Pipeline(steps=[(&#x27;preprocessor&#x27;,\n",
       "                 ColumnTransformer(force_int_remainder_cols=False,\n",
       "                                   remainder=&#x27;passthrough&#x27;,\n",
       "                                   transformers=[(&#x27;cat&#x27;,\n",
       "                                                  OneHotEncoder(handle_unknown=&#x27;ignore&#x27;),\n",
       "                                                  [&#x27;keyword&#x27;, &#x27;location&#x27;]),\n",
       "                                                 (&#x27;text&#x27;, TfidfVectorizer(),\n",
       "                                                  &#x27;text&#x27;)])),\n",
       "                (&#x27;model&#x27;, RandomForestRegressor())])</pre><b>In a Jupyter environment, please rerun this cell to show the HTML representation or trust the notebook. <br />On GitHub, the HTML representation is unable to render, please try loading this page with nbviewer.org.</b></div><div class=\"sk-container\" hidden><div class=\"sk-item sk-dashed-wrapped\"><div class=\"sk-label-container\"><div class=\"sk-label fitted sk-toggleable\"><input class=\"sk-toggleable__control sk-hidden--visually\" id=\"sk-estimator-id-1\" type=\"checkbox\" ><label for=\"sk-estimator-id-1\" class=\"sk-toggleable__label fitted sk-toggleable__label-arrow fitted\">&nbsp;&nbsp;Pipeline<a class=\"sk-estimator-doc-link fitted\" rel=\"noreferrer\" target=\"_blank\" href=\"https://scikit-learn.org/1.5/modules/generated/sklearn.pipeline.Pipeline.html\">?<span>Documentation for Pipeline</span></a><span class=\"sk-estimator-doc-link fitted\">i<span>Fitted</span></span></label><div class=\"sk-toggleable__content fitted\"><pre>Pipeline(steps=[(&#x27;preprocessor&#x27;,\n",
       "                 ColumnTransformer(force_int_remainder_cols=False,\n",
       "                                   remainder=&#x27;passthrough&#x27;,\n",
       "                                   transformers=[(&#x27;cat&#x27;,\n",
       "                                                  OneHotEncoder(handle_unknown=&#x27;ignore&#x27;),\n",
       "                                                  [&#x27;keyword&#x27;, &#x27;location&#x27;]),\n",
       "                                                 (&#x27;text&#x27;, TfidfVectorizer(),\n",
       "                                                  &#x27;text&#x27;)])),\n",
       "                (&#x27;model&#x27;, RandomForestRegressor())])</pre></div> </div></div><div class=\"sk-serial\"><div class=\"sk-item sk-dashed-wrapped\"><div class=\"sk-label-container\"><div class=\"sk-label fitted sk-toggleable\"><input class=\"sk-toggleable__control sk-hidden--visually\" id=\"sk-estimator-id-2\" type=\"checkbox\" ><label for=\"sk-estimator-id-2\" class=\"sk-toggleable__label fitted sk-toggleable__label-arrow fitted\">&nbsp;preprocessor: ColumnTransformer<a class=\"sk-estimator-doc-link fitted\" rel=\"noreferrer\" target=\"_blank\" href=\"https://scikit-learn.org/1.5/modules/generated/sklearn.compose.ColumnTransformer.html\">?<span>Documentation for preprocessor: ColumnTransformer</span></a></label><div class=\"sk-toggleable__content fitted\"><pre>ColumnTransformer(force_int_remainder_cols=False, remainder=&#x27;passthrough&#x27;,\n",
       "                  transformers=[(&#x27;cat&#x27;, OneHotEncoder(handle_unknown=&#x27;ignore&#x27;),\n",
       "                                 [&#x27;keyword&#x27;, &#x27;location&#x27;]),\n",
       "                                (&#x27;text&#x27;, TfidfVectorizer(), &#x27;text&#x27;)])</pre></div> </div></div><div class=\"sk-parallel\"><div class=\"sk-parallel-item\"><div class=\"sk-item\"><div class=\"sk-label-container\"><div class=\"sk-label fitted sk-toggleable\"><input class=\"sk-toggleable__control sk-hidden--visually\" id=\"sk-estimator-id-3\" type=\"checkbox\" ><label for=\"sk-estimator-id-3\" class=\"sk-toggleable__label fitted sk-toggleable__label-arrow fitted\">cat</label><div class=\"sk-toggleable__content fitted\"><pre>[&#x27;keyword&#x27;, &#x27;location&#x27;]</pre></div> </div></div><div class=\"sk-serial\"><div class=\"sk-item\"><div class=\"sk-estimator fitted sk-toggleable\"><input class=\"sk-toggleable__control sk-hidden--visually\" id=\"sk-estimator-id-4\" type=\"checkbox\" ><label for=\"sk-estimator-id-4\" class=\"sk-toggleable__label fitted sk-toggleable__label-arrow fitted\">&nbsp;OneHotEncoder<a class=\"sk-estimator-doc-link fitted\" rel=\"noreferrer\" target=\"_blank\" href=\"https://scikit-learn.org/1.5/modules/generated/sklearn.preprocessing.OneHotEncoder.html\">?<span>Documentation for OneHotEncoder</span></a></label><div class=\"sk-toggleable__content fitted\"><pre>OneHotEncoder(handle_unknown=&#x27;ignore&#x27;)</pre></div> </div></div></div></div></div><div class=\"sk-parallel-item\"><div class=\"sk-item\"><div class=\"sk-label-container\"><div class=\"sk-label fitted sk-toggleable\"><input class=\"sk-toggleable__control sk-hidden--visually\" id=\"sk-estimator-id-5\" type=\"checkbox\" ><label for=\"sk-estimator-id-5\" class=\"sk-toggleable__label fitted sk-toggleable__label-arrow fitted\">text</label><div class=\"sk-toggleable__content fitted\"><pre>text</pre></div> </div></div><div class=\"sk-serial\"><div class=\"sk-item\"><div class=\"sk-estimator fitted sk-toggleable\"><input class=\"sk-toggleable__control sk-hidden--visually\" id=\"sk-estimator-id-6\" type=\"checkbox\" ><label for=\"sk-estimator-id-6\" class=\"sk-toggleable__label fitted sk-toggleable__label-arrow fitted\">&nbsp;TfidfVectorizer<a class=\"sk-estimator-doc-link fitted\" rel=\"noreferrer\" target=\"_blank\" href=\"https://scikit-learn.org/1.5/modules/generated/sklearn.feature_extraction.text.TfidfVectorizer.html\">?<span>Documentation for TfidfVectorizer</span></a></label><div class=\"sk-toggleable__content fitted\"><pre>TfidfVectorizer()</pre></div> </div></div></div></div></div><div class=\"sk-parallel-item\"><div class=\"sk-item\"><div class=\"sk-label-container\"><div class=\"sk-label fitted sk-toggleable\"><input class=\"sk-toggleable__control sk-hidden--visually\" id=\"sk-estimator-id-7\" type=\"checkbox\" ><label for=\"sk-estimator-id-7\" class=\"sk-toggleable__label fitted sk-toggleable__label-arrow fitted\">remainder</label><div class=\"sk-toggleable__content fitted\"><pre>[]</pre></div> </div></div><div class=\"sk-serial\"><div class=\"sk-item\"><div class=\"sk-estimator fitted sk-toggleable\"><input class=\"sk-toggleable__control sk-hidden--visually\" id=\"sk-estimator-id-8\" type=\"checkbox\" ><label for=\"sk-estimator-id-8\" class=\"sk-toggleable__label fitted sk-toggleable__label-arrow fitted\">passthrough</label><div class=\"sk-toggleable__content fitted\"><pre>passthrough</pre></div> </div></div></div></div></div></div></div><div class=\"sk-item\"><div class=\"sk-estimator fitted sk-toggleable\"><input class=\"sk-toggleable__control sk-hidden--visually\" id=\"sk-estimator-id-9\" type=\"checkbox\" ><label for=\"sk-estimator-id-9\" class=\"sk-toggleable__label fitted sk-toggleable__label-arrow fitted\">&nbsp;RandomForestRegressor<a class=\"sk-estimator-doc-link fitted\" rel=\"noreferrer\" target=\"_blank\" href=\"https://scikit-learn.org/1.5/modules/generated/sklearn.ensemble.RandomForestRegressor.html\">?<span>Documentation for RandomForestRegressor</span></a></label><div class=\"sk-toggleable__content fitted\"><pre>RandomForestRegressor()</pre></div> </div></div></div></div></div></div>"
      ],
      "text/plain": [
       "Pipeline(steps=[('preprocessor',\n",
       "                 ColumnTransformer(force_int_remainder_cols=False,\n",
       "                                   remainder='passthrough',\n",
       "                                   transformers=[('cat',\n",
       "                                                  OneHotEncoder(handle_unknown='ignore'),\n",
       "                                                  ['keyword', 'location']),\n",
       "                                                 ('text', TfidfVectorizer(),\n",
       "                                                  'text')])),\n",
       "                ('model', RandomForestRegressor())])"
      ]
     },
     "execution_count": 43,
     "metadata": {},
     "output_type": "execute_result"
    }
   ],
   "source": [
    "# Train the model\n",
    "# Fit the pipeline on the entire training data\n",
    "pipeline.fit(X_train, Y_train)"
   ]
  },
  {
   "cell_type": "code",
   "execution_count": 44,
   "id": "aa2f28b3-bdf4-4a15-9cd5-f292cb766e86",
   "metadata": {},
   "outputs": [
    {
     "name": "stdout",
     "output_type": "stream",
     "text": [
      "Pipeline saved successfully.\n"
     ]
    }
   ],
   "source": [
    "# Save the new pipeline\n",
    "pipeline_path = '../Data/models/pipeline.pkl'\n",
    "joblib.dump(pipeline, pipeline_path)\n",
    "print(\"Pipeline saved successfully.\")"
   ]
  },
  {
   "cell_type": "code",
   "execution_count": 45,
   "id": "5a93fb42-0101-4591-bb8f-b61b80ea5dff",
   "metadata": {},
   "outputs": [
    {
     "name": "stdout",
     "output_type": "stream",
     "text": [
      "<Compressed Sparse Row sparse matrix of dtype 'float64'\n",
      "\twith 41925 stored elements and shape (3263, 22380)>\n",
      "  Coords\tValues\n",
      "  (0, 64)\t1.0\n",
      "  (0, 1728)\t1.0\n",
      "  (0, 5649)\t0.4002151170722309\n",
      "  (0, 6567)\t0.3889857197293364\n",
      "  (0, 9408)\t0.5122104525603822\n",
      "  (0, 14397)\t0.312398316379726\n",
      "  (0, 20408)\t0.5732065196109617\n",
      "  (1, 64)\t1.0\n",
      "  (1, 1728)\t1.0\n",
      "  (1, 3691)\t0.23981648100324654\n",
      "  (1, 6026)\t0.41896501541580916\n",
      "  (1, 7210)\t0.37820859758202385\n",
      "  (1, 7657)\t0.31692212105164286\n",
      "  (1, 8054)\t0.30773754283000915\n",
      "  (1, 9526)\t0.32809898336165666\n",
      "  (1, 14078)\t0.16345110256023013\n",
      "  (1, 18671)\t0.41896501541580916\n",
      "  (1, 19806)\t0.34478357266477827\n",
      "  (2, 64)\t1.0\n",
      "  (2, 1728)\t1.0\n",
      "  (2, 3753)\t0.2945238415838614\n",
      "  (2, 4000)\t0.18944687252290401\n",
      "  (2, 4291)\t0.17095523926603642\n",
      "  (2, 4441)\t0.158188712166819\n",
      "  (2, 5617)\t0.3131555740605024\n",
      "  :\t:\n",
      "  (3259, 22006)\t0.315399147127859\n",
      "  (3260, 64)\t1.0\n",
      "  (3260, 1728)\t1.0\n",
      "  (3260, 5917)\t0.5236573578680094\n",
      "  (3260, 7081)\t0.45261412884501523\n",
      "  (3260, 9200)\t0.5178597204143847\n",
      "  (3260, 13815)\t0.17714264681931138\n",
      "  (3260, 15003)\t0.47049464882264874\n",
      "  (3261, 64)\t1.0\n",
      "  (3261, 1728)\t1.0\n",
      "  (3261, 9491)\t0.4083360064019351\n",
      "  (3261, 13624)\t0.5095094421867504\n",
      "  (3261, 14103)\t0.422363388002223\n",
      "  (3261, 16854)\t0.498048236895157\n",
      "  (3261, 21698)\t0.3836912253351311\n",
      "  (3262, 64)\t1.0\n",
      "  (3262, 1728)\t1.0\n",
      "  (3262, 3762)\t0.4203212452334634\n",
      "  (3262, 6033)\t0.44681198281046325\n",
      "  (3262, 7819)\t0.25508123473711847\n",
      "  (3262, 9452)\t0.22748798186037344\n",
      "  (3262, 14113)\t0.22980463519817299\n",
      "  (3262, 16085)\t0.39594748200914626\n",
      "  (3262, 17306)\t0.3124841720239418\n",
      "  (3262, 22238)\t0.44681198281046325\n",
      "[0.88 0.98 0.8  ... 0.99 0.48 0.18]\n"
     ]
    }
   ],
   "source": [
    "# Apply the transformations on the testing data without fitting again\n",
    "transformed_test_data = pipeline.named_steps['preprocessor'].transform(test_data)\n",
    "\n",
    "# If you need to make predictions on the test data:\n",
    "predictions = pipeline.predict(test_data)\n",
    "\n",
    "# Print the transformed test data or predictions\n",
    "print(transformed_test_data)\n",
    "print(predictions)\n"
   ]
  },
  {
   "cell_type": "markdown",
   "id": "09d302b8-e18d-4a52-ae63-1b61917e9cc1",
   "metadata": {},
   "source": [
    "# predictions"
   ]
  },
  {
   "cell_type": "markdown",
   "id": "0381f20f-e662-4cba-a77a-a0a33aedc657",
   "metadata": {},
   "source": [
    "Use the test data"
   ]
  },
  {
   "cell_type": "code",
   "execution_count": 48,
   "id": "809aeb3e-952d-414a-856c-61ace7a6e26f",
   "metadata": {},
   "outputs": [
    {
     "name": "stdout",
     "output_type": "stream",
     "text": [
      "Predictions: [0.88 0.98 0.8  ... 0.99 0.48 0.18]\n"
     ]
    }
   ],
   "source": [
    "# Apply transformations and make predictions directly on the test data\n",
    "predictions = pipeline.predict(test_data)\n",
    "\n",
    "# Print the predictions\n",
    "print(\"Predictions:\", predictions)"
   ]
  },
  {
   "cell_type": "markdown",
   "id": "5ac12cb3-9c59-426e-b0eb-ac3d4a7c7ab6",
   "metadata": {},
   "source": [
    "# Evaluation"
   ]
  },
  {
   "cell_type": "code",
   "execution_count": 50,
   "id": "cc507155-26b6-43d5-b373-ef8d1b355a28",
   "metadata": {},
   "outputs": [
    {
     "name": "stdout",
     "output_type": "stream",
     "text": [
      "Mean Squared Error: 0.1797438569105909\n",
      "R-squared: 0.2649824079362266\n"
     ]
    }
   ],
   "source": [
    "from sklearn.model_selection import train_test_split\n",
    "from sklearn.metrics import mean_squared_error, r2_score\n",
    "# Y_test ke liye correct subset use karein\n",
    "predictions = pipeline.predict(X_test)\n",
    "\n",
    "# Ensure karein ki `Y_test` aur `predictions` ki length match karein\n",
    "if len(Y_test) == len(predictions):\n",
    "    mse = mean_squared_error(Y_test, predictions)\n",
    "    r2 = r2_score(Y_test, predictions)\n",
    "    print(f\"Mean Squared Error: {mse}\")\n",
    "    print(f\"R-squared: {r2}\")\n",
    "else:\n",
    "    print(\"Y_test aur predictions ki length match nahi kar rahi hai.\")\n"
   ]
  },
  {
   "cell_type": "code",
   "execution_count": 51,
   "id": "1e9c4d04-cea0-486d-b02f-595d7cbdcf7f",
   "metadata": {},
   "outputs": [],
   "source": [
    "# prepare for submission"
   ]
  },
  {
   "cell_type": "code",
   "execution_count": 52,
   "id": "8805920a-a685-4525-a04e-c5ba758644a8",
   "metadata": {},
   "outputs": [
    {
     "name": "stdout",
     "output_type": "stream",
     "text": [
      "Predictions length: 1523\n",
      "Sample submission length: 3263\n"
     ]
    }
   ],
   "source": [
    "print(f\"Predictions length: {len(predictions)}\")\n",
    "print(f\"Sample submission length: {len(sample_submission)}\")\n"
   ]
  },
  {
   "cell_type": "code",
   "execution_count": 53,
   "id": "b6e65b26-f89e-43fc-85ba-26ca5b93c9bb",
   "metadata": {},
   "outputs": [
    {
     "data": {
      "text/plain": [
       "array([0.88, 0.98, 0.8 , ..., 0.99, 0.48, 0.18])"
      ]
     },
     "execution_count": 53,
     "metadata": {},
     "output_type": "execute_result"
    }
   ],
   "source": [
    "predictions = pipeline.predict(test_data)\n",
    "predictions"
   ]
  },
  {
   "cell_type": "code",
   "execution_count": 54,
   "id": "6910f024-0e84-4fdd-962a-00080afbc9ba",
   "metadata": {},
   "outputs": [],
   "source": [
    "sample_submission['target'] = predictions\n",
    "sample_submission.to_csv('submission.csv', index=False)"
   ]
  },
  {
   "cell_type": "code",
   "execution_count": 55,
   "id": "2e5aa563-95b6-48fa-8aed-9911a4d121ee",
   "metadata": {},
   "outputs": [
    {
     "name": "stdout",
     "output_type": "stream",
     "text": [
      "Model saved to C:/Users/acer/Disaster_management_system/Data/models\\trained_model.pkl\n"
     ]
    }
   ],
   "source": [
    "import os\n",
    "import joblib\n",
    "\n",
    "# Update this to the absolute path of your data/models directory\n",
    "model_directory = 'C:/Users/acer/Disaster_management_system/Data/models'\n",
    "model_filename = os.path.join(model_directory, 'trained_model.pkl')\n",
    "\n",
    "# Create the directory if it doesn't exist\n",
    "if not os.path.exists(model_directory):\n",
    "    os.makedirs(model_directory)\n",
    "\n",
    "# Save the model\n",
    "joblib.dump(pipeline, model_filename)\n",
    "print(f\"Model saved to {model_filename}\")\n"
   ]
  },
  {
   "cell_type": "code",
   "execution_count": 56,
   "id": "df70fccb-447f-4362-aad1-b8cdcdf6c4a8",
   "metadata": {},
   "outputs": [
    {
     "name": "stdout",
     "output_type": "stream",
     "text": [
      "Predictions saved to '..\\Data\\results\\predictions.csv'\n"
     ]
    }
   ],
   "source": [
    "import os\n",
    "import pandas as pd\n",
    "\n",
    "# Path to save the predictions\n",
    "results_dir = os.path.join('..', 'Data', 'results')  # Move up one directory from Notebooks to data/results\n",
    "model_filename = os.path.join(results_dir, 'predictions.csv')\n",
    "\n",
    "# Create the directory if it doesn't exist\n",
    "if not os.path.exists(results_dir):\n",
    "    os.makedirs(results_dir)\n",
    "\n",
    "# Assuming 'predictions' is your predictions array\n",
    "predictions = pipeline.predict(X_test)\n",
    "\n",
    "# Save predictions to a CSV file\n",
    "result_df = pd.DataFrame(predictions, columns=['Prediction'])\n",
    "result_df.to_csv(model_filename, index=False)\n",
    "print(f\"Predictions saved to '{model_filename}'\")\n"
   ]
  },
  {
   "cell_type": "code",
   "execution_count": 57,
   "id": "72a85c9c-424d-4931-ba02-3221e99fc219",
   "metadata": {},
   "outputs": [
    {
     "name": "stdout",
     "output_type": "stream",
     "text": [
      "Evaluation results saved to 'C:/Users/acer/Disaster_management_system/Data/results/model_evaluation.txt'\n"
     ]
    }
   ],
   "source": [
    "import os\n",
    "from sklearn.metrics import mean_squared_error, r2_score\n",
    "\n",
    "# Assuming 'Y_test' is the actual target values and 'predictions' are your model's predictions\n",
    "mse = mean_squared_error(Y_test, predictions)\n",
    "r2 = r2_score(Y_test, predictions)\n",
    "\n",
    "# Absolute path to save the evaluation results\n",
    "results_path = 'C:/Users/acer/Disaster_management_system/Data/results/model_evaluation.txt'\n",
    "\n",
    "# Create the directory if it doesn't exist\n",
    "results_dir = os.path.dirname(results_path)\n",
    "if not os.path.exists(results_dir):\n",
    "    os.makedirs(results_dir)\n",
    "\n",
    "# Save results to a file\n",
    "with open(results_path, 'w') as f:\n",
    "    f.write(f'MSE: {mse}\\n')\n",
    "    f.write(f'R²: {r2}\\n')\n",
    "print(f\"Evaluation results saved to '{results_path}'\")\n"
   ]
  },
  {
   "cell_type": "code",
   "execution_count": 58,
   "id": "fd5e130f-5fd7-4512-ba71-f27f3e2b6c03",
   "metadata": {},
   "outputs": [
    {
     "name": "stdout",
     "output_type": "stream",
     "text": [
      "Requirement already satisfied: requests in c:\\users\\acer\\appdata\\roaming\\python\\python312\\site-packages (2.32.3)Note: you may need to restart the kernel to use updated packages.\n",
      "\n",
      "Requirement already satisfied: charset-normalizer<4,>=2 in c:\\users\\acer\\appdata\\roaming\\python\\python312\\site-packages (from requests) (3.3.2)\n",
      "Requirement already satisfied: idna<4,>=2.5 in c:\\users\\acer\\appdata\\roaming\\python\\python312\\site-packages (from requests) (3.7)\n",
      "Requirement already satisfied: urllib3<3,>=1.21.1 in c:\\users\\acer\\appdata\\roaming\\python\\python312\\site-packages (from requests) (2.2.2)\n",
      "Requirement already satisfied: certifi>=2017.4.17 in c:\\users\\acer\\appdata\\roaming\\python\\python312\\site-packages (from requests) (2024.7.4)\n"
     ]
    }
   ],
   "source": [
    "pip install requests"
   ]
  },
  {
   "cell_type": "code",
   "execution_count": 59,
   "id": "cf8d9b63-f639-4fad-b6e0-d1f2f9caa523",
   "metadata": {},
   "outputs": [
    {
     "name": "stdout",
     "output_type": "stream",
     "text": [
      "C:\\Users\\acer\\Disaster_management_system\\Notebooks\n"
     ]
    }
   ],
   "source": [
    "print(os.getcwd())"
   ]
  },
  {
   "cell_type": "code",
   "execution_count": 60,
   "id": "ff641d2f-7f42-4921-800f-166b9d1b2807",
   "metadata": {},
   "outputs": [],
   "source": [
    "import sys\n",
    "import os\n",
    "# Set the path to the src directory\n",
    "src_path = os.path.abspath(os.path.join(os.getcwd(), '..', 'src'))\n",
    "sys.path.append(src_path)"
   ]
  },
  {
   "cell_type": "markdown",
   "id": "3231f6be-ed95-4f8c-a1dc-5b2e463f1191",
   "metadata": {},
   "source": [
    "# Fetch live data"
   ]
  },
  {
   "cell_type": "code",
   "execution_count": 62,
   "id": "bb9e1ec7-7004-454e-9a77-64a8566c2138",
   "metadata": {},
   "outputs": [
    {
     "name": "stdout",
     "output_type": "stream",
     "text": [
      "Live data fetched and saved successfully.\n"
     ]
    }
   ],
   "source": [
    "import json\n",
    "import requests\n",
    "import os\n",
    "\n",
    "# API key for OpenWeatherMap\n",
    "api_key = 'd3437b12773eb0feaeba59084f496eeb'\n",
    "city_name = 'London'\n",
    "api_url = f'https://api.openweathermap.org/data/2.5/weather?q={city_name}&appid={api_key}'\n",
    "\n",
    "# File path for saving live data\n",
    "file_path = os.path.join('..', 'Data', 'Live_data', 'live_data.json')\n",
    "\n",
    "# Fetch live data from OpenWeatherMap API\n",
    "try:\n",
    "    response = requests.get(api_url)\n",
    "    if response.status_code == 200:\n",
    "        live_data = response.json()  # Get the live data as JSON\n",
    "        # Save the fetched data to the live_data.json file\n",
    "        with open(file_path, 'w') as file:\n",
    "            json.dump(live_data, file, indent=4)\n",
    "        print(\"Live data fetched and saved successfully.\")\n",
    "    else:\n",
    "        print(f\"Failed to fetch data. Status code: {response.status_code}\")\n",
    "except Exception as e:\n",
    "    print(f\"An error occurred while fetching live data: {e}\")"
   ]
  },
  {
   "cell_type": "code",
   "execution_count": 63,
   "id": "2f965839-9a73-405f-bcc7-9c0f7ebd3742",
   "metadata": {},
   "outputs": [
    {
     "name": "stdout",
     "output_type": "stream",
     "text": [
      "File found at: ..\\Data\\Live_data\\live_data.json\n",
      "{'coord': {'lon': -0.1257, 'lat': 51.5085}, 'weather': [{'id': 804, 'main': 'Clouds', 'description': 'overcast clouds', 'icon': '04d'}], 'base': 'stations', 'main': {'temp': 285.77, 'feels_like': 285.25, 'temp_min': 284.94, 'temp_max': 286.35, 'pressure': 1002, 'humidity': 83, 'sea_level': 1002, 'grnd_level': 998}, 'visibility': 10000, 'wind': {'speed': 6.17, 'deg': 90}, 'clouds': {'all': 100}, 'dt': 1728201910, 'sys': {'type': 2, 'id': 2075535, 'country': 'GB', 'sunrise': 1728194982, 'sunset': 1728235625}, 'timezone': 3600, 'id': 2643743, 'name': 'London', 'cod': 200}\n"
     ]
    }
   ],
   "source": [
    "# Load the live data from the JSON file (after saving the new data)\n",
    "if os.path.exists(file_path):\n",
    "    print(f\"File found at: {file_path}\")\n",
    "    try:\n",
    "        with open(file_path, 'r') as file:\n",
    "            live_data = json.load(file)\n",
    "        print(live_data)  # Display the live data to check its contents\n",
    "    except json.JSONDecodeError as e:\n",
    "        print(f\"Error decoding JSON: {e}\")\n",
    "    except Exception as e:\n",
    "        print(f\"An error occurred: {e}\")\n",
    "else:\n",
    "    print(f\"File not found at: {file_path}\")\n"
   ]
  },
  {
   "cell_type": "markdown",
   "id": "24f69890-4831-4dbb-9adc-08619b1312b9",
   "metadata": {},
   "source": [
    "# display live data"
   ]
  },
  {
   "cell_type": "code",
   "execution_count": 65,
   "id": "6c0cb65f-3de0-4be2-b522-4cc6a258e742",
   "metadata": {},
   "outputs": [
    {
     "name": "stdout",
     "output_type": "stream",
     "text": [
      "File found at: ..\\Data\\Live_data\\live_data.json\n",
      "{'coord': {'lon': -0.1257, 'lat': 51.5085}, 'weather': [{'id': 804, 'main': 'Clouds', 'description': 'overcast clouds', 'icon': '04d'}], 'base': 'stations', 'main': {'temp': 285.77, 'feels_like': 285.25, 'temp_min': 284.94, 'temp_max': 286.35, 'pressure': 1002, 'humidity': 83, 'sea_level': 1002, 'grnd_level': 998}, 'visibility': 10000, 'wind': {'speed': 6.17, 'deg': 90}, 'clouds': {'all': 100}, 'dt': 1728201910, 'sys': {'type': 2, 'id': 2075535, 'country': 'GB', 'sunrise': 1728194982, 'sunset': 1728235625}, 'timezone': 3600, 'id': 2643743, 'name': 'London', 'cod': 200}\n"
     ]
    }
   ],
   "source": [
    "import json\n",
    "import os\n",
    "\n",
    "# Define the correct path to the JSON file\n",
    "file_path = os.path.join('..', 'Data', 'Live_data', 'live_data.json')\n",
    "\n",
    "# Check if file exists\n",
    "if os.path.exists(file_path):\n",
    "    print(f\"File found at: {file_path}\")\n",
    "    \n",
    "    # Load the live data from the JSON file\n",
    "    try:\n",
    "        with open(file_path, 'r') as file:\n",
    "            live_data = json.load(file)\n",
    "        print(live_data)  # Display the live data to check its contents\n",
    "    except json.JSONDecodeError as e:\n",
    "        print(f\"Error decoding JSON: {e}\")\n",
    "    except Exception as e:\n",
    "        print(f\"An error occurred: {e}\")\n",
    "else:\n",
    "    print(f\"File not found at: {file_path}\")\n"
   ]
  },
  {
   "cell_type": "markdown",
   "id": "f5a39f29-5571-4775-8298-f6a27df4c253",
   "metadata": {},
   "source": [
    "# display extract information"
   ]
  },
  {
   "cell_type": "code",
   "execution_count": 67,
   "id": "6655e483-dd5a-4946-a4c9-744c12021667",
   "metadata": {},
   "outputs": [
    {
     "name": "stdout",
     "output_type": "stream",
     "text": [
      "City: London\n",
      "Temperature: 12.62 °C\n",
      "Weather: Overcast clouds\n",
      "Wind Speed: 6.17 m/s\n",
      "Humidity: 83%\n"
     ]
    }
   ],
   "source": [
    "# Extract specific data from the loaded JSON\n",
    "city_name = live_data['name']\n",
    "temperature = live_data['main']['temp'] - 273.15  # Convert Kelvin to Celsius\n",
    "weather_description = live_data['weather'][0]['description']\n",
    "wind_speed = live_data['wind']['speed']\n",
    "humidity = live_data['main']['humidity']\n",
    "\n",
    "# Display the extracted information\n",
    "print(f\"City: {city_name}\")\n",
    "print(f\"Temperature: {temperature:.2f} °C\")\n",
    "print(f\"Weather: {weather_description.capitalize()}\")\n",
    "print(f\"Wind Speed: {wind_speed} m/s\")\n",
    "print(f\"Humidity: {humidity}%\")\n"
   ]
  },
  {
   "cell_type": "code",
   "execution_count": 68,
   "id": "19ad2bc5-2e56-4559-9ce7-6f47fadb9763",
   "metadata": {},
   "outputs": [
    {
     "name": "stdout",
     "output_type": "stream",
     "text": [
      "       description  temperature\n",
      "0  overcast clouds       285.77\n"
     ]
    }
   ],
   "source": [
    "import pandas as pd\n",
    "\n",
    "# Assuming the live_data contains weather information in a dictionary format\n",
    "# Example: {'weather': [{'description': 'clear sky'}], 'main': {'temp': 293.15}}\n",
    "\n",
    "# Extract relevant information\n",
    "weather_description = live_data['weather'][0]['description']\n",
    "temperature = live_data['main']['temp']\n",
    "\n",
    "# Convert to a DataFrame (optional, for structured analysis)\n",
    "df_live_data = pd.DataFrame([{\n",
    "    'description': weather_description,\n",
    "    'temperature': temperature\n",
    "}])\n",
    "\n",
    "# Display the DataFrame\n",
    "print(df_live_data)\n"
   ]
  },
  {
   "cell_type": "markdown",
   "id": "a3083cbb-1c54-46f4-95ab-fc6340ab2c85",
   "metadata": {},
   "source": [
    "# visualize"
   ]
  },
  {
   "cell_type": "code",
   "execution_count": 70,
   "id": "51d3071b-cede-4776-855d-3ac08f48c21a",
   "metadata": {},
   "outputs": [
    {
     "data": {
      "image/png": "[encoded data removed]",
      "text/plain": [
       "<Figure size 1000x500 with 1 Axes>"
      ]
     },
     "metadata": {},
     "output_type": "display_data"
    }
   ],
   "source": [
    "import matplotlib.pyplot as plt\n",
    "\n",
    "# Plot the temperature\n",
    "plt.figure(figsize=(10, 5))\n",
    "plt.bar(['London'], [temperature], color='blue')\n",
    "plt.xlabel('Location')\n",
    "plt.ylabel('Temperature (K)')\n",
    "plt.ylim(270, 290)  # Adjust y-axis range\n",
    "plt.title('Live Weather Data')\n",
    "plt.show()\n"
   ]
  },
  {
   "cell_type": "code",
   "execution_count": 71,
   "id": "be7b693e-0097-4749-bcc7-cfa1fde2d486",
   "metadata": {},
   "outputs": [
    {
     "data": {
      "image/png": "[encoded data removed]",
      "text/plain": [
       "<Figure size 1000x500 with 1 Axes>"
      ]
     },
     "metadata": {},
     "output_type": "display_data"
    }
   ],
   "source": [
    "# Convert temperature from Kelvin to Celsius\n",
    "temperature_celsius = temperature - 273.15\n",
    "\n",
    "# Plot the temperature in Celsius\n",
    "plt.figure(figsize=(10, 5))\n",
    "plt.bar(['London'], [temperature_celsius], color='blue')\n",
    "plt.xlabel('Location')\n",
    "plt.ylabel('Temperature (°C)')\n",
    "plt.title('Live Weather Data')\n",
    "plt.show()\n"
   ]
  },
  {
   "cell_type": "markdown",
   "id": "bb3b5e0c-0dee-4d2a-bf5a-ddd47abf0d06",
   "metadata": {},
   "source": [
    "# To train and preprocess live data"
   ]
  },
  {
   "cell_type": "code",
   "execution_count": 73,
   "id": "b6d96300-1b94-44ed-876e-7fe4bba361e5",
   "metadata": {},
   "outputs": [],
   "source": [
    "import pandas as pd\n",
    "from sklearn.preprocessing import StandardScaler, OneHotEncoder\n",
    "from sklearn.compose import ColumnTransformer\n",
    "import json\n",
    "import os"
   ]
  },
  {
   "cell_type": "code",
   "execution_count": 74,
   "id": "bdf8aeee-62da-4045-9854-ae47a6a26927",
   "metadata": {},
   "outputs": [
    {
     "name": "stdout",
     "output_type": "stream",
     "text": [
      "Preprocessed live data:\n",
      "  keyword location                                      text\n",
      "0  clouds   London  the weather in london is overcast clouds\n",
      "Live data processed and predictions saved successfully.\n"
     ]
    }
   ],
   "source": [
    "# Path to the saved model pipeline\n",
    "model_path = '../Data/models/pipeline.pkl'\n",
    "\n",
    "# Load the trained model pipeline\n",
    "pipeline = joblib.load(model_path)\n",
    "\n",
    "# Path to live data\n",
    "file_path = os.path.join('..', 'Data', 'Live_data', 'live_data.json')\n",
    "\n",
    "# Load and preprocess live data\n",
    "if os.path.exists(file_path):\n",
    "    try:\n",
    "        with open(file_path, 'r') as file:\n",
    "            live_data = json.load(file)\n",
    "        \n",
    "        # Extract relevant fields\n",
    "        location = live_data.get('name', 'Unknown')\n",
    "        keyword = live_data['weather'][0]['main'].lower()  # Dynamic keyword from weather condition\n",
    "        text = f\"The weather in {location} is {live_data['weather'][0]['description']}.\"\n",
    "        \n",
    "        # Create DataFrame for live data\n",
    "        live_data_df = pd.DataFrame([{\n",
    "            'keyword': keyword,\n",
    "            'location': location,\n",
    "            'text': text\n",
    "        }])\n",
    "        \n",
    "        # Perform text cleaning if needed\n",
    "        live_data_df['text'] = live_data_df['text'].str.lower()  # Convert text to lowercase\n",
    "        live_data_df['text'] = live_data_df['text'].str.replace(r'[^\\w\\s]', '', regex=True)  # Remove punctuation\n",
    "\n",
    "        print(\"Preprocessed live data:\")\n",
    "        print(live_data_df)\n",
    "    \n",
    "        # Use the pipeline to preprocess and make predictions\n",
    "        live_data_processed = pipeline.named_steps['preprocessor'].transform(live_data_df)\n",
    "        predictions = pipeline.named_steps['model'].predict(live_data_processed)\n",
    "        \n",
    "        # Save or display the predictions\n",
    "        predictions_path = '../Data/processed_data/live_data_predictions.csv'\n",
    "        pd.DataFrame(predictions, columns=['prediction']).to_csv(predictions_path, index=False)\n",
    "        print(\"Live data processed and predictions saved successfully.\")\n",
    "    \n",
    "    except FileNotFoundError:\n",
    "        print(f\"File not found at: {file_path}\")\n",
    "    except json.JSONDecodeError as e:\n",
    "        print(f\"Error decoding JSON: {e}\")\n",
    "    except KeyError as e:\n",
    "        print(f\"KeyError: Missing expected field in the live data - {e}\")\n",
    "    except Exception as e:\n",
    "        print(f\"An error occurred during preprocessing: {e}\")\n",
    "else:\n",
    "    print(f\"File not found at: {file_path}\")\n"
   ]
  },
  {
   "cell_type": "code",
   "execution_count": 75,
   "id": "547542f2-9724-4330-ac08-617561de5f53",
   "metadata": {},
   "outputs": [],
   "source": [
    "# Add predictions to the live data DataFrame\n",
    "live_data_df['prediction'] = predictions"
   ]
  },
  {
   "cell_type": "code",
   "execution_count": 76,
   "id": "41fa1649-78aa-41a3-a63a-c4c73b02156d",
   "metadata": {},
   "outputs": [
    {
     "name": "stdout",
     "output_type": "stream",
     "text": [
      "Keyword: clouds\n",
      "Location: London\n",
      "Text: the weather in london is overcast clouds\n",
      "predictions: 0.42\n",
      "\n"
     ]
    }
   ],
   "source": [
    "# Create a readable formatted string\n",
    "formatted_output = f\"Keyword: {live_data_df['keyword'][0]}\\n\" \\\n",
    "                   f\"Location: {live_data_df['location'][0]}\\n\" \\\n",
    "                   f\"Text: {live_data_df['text'][0]}\\n\" \\\n",
    "                   f\"predictions: {live_data_df['prediction'][0]}\\n\"\n",
    "\n",
    "print(formatted_output)"
   ]
  },
  {
   "cell_type": "code",
   "execution_count": 77,
   "id": "70d197d7-9bba-48a4-a799-4f45bb9359be",
   "metadata": {},
   "outputs": [
    {
     "name": "stdout",
     "output_type": "stream",
     "text": [
      "Predictions saved to ../Data/processed_data/live_data_predictions.csv\n"
     ]
    }
   ],
   "source": [
    "# Save the DataFrame with predictions to a CSV file\n",
    "predictions_path = '../Data/processed_data/live_data_predictions.csv'\n",
    "live_data_df.to_csv(predictions_path, index=False)\n",
    "\n",
    "print(f\"Predictions saved to {predictions_path}\")\n"
   ]
  },
  {
   "cell_type": "code",
   "execution_count": 78,
   "id": "a2aedeac-ff3b-461f-b2e2-2ab30f8a6f5a",
   "metadata": {},
   "outputs": [
    {
     "name": "stdout",
     "output_type": "stream",
     "text": [
      "Live Data Predictions:\n",
      "+----+-----------+------------+------------------------------------------+--------------+\n",
      "|    | keyword   | location   | text                                     |   prediction |\n",
      "+====+===========+============+==========================================+==============+\n",
      "|  0 | clouds    | London     | the weather in london is overcast clouds |         0.42 |\n",
      "+----+-----------+------------+------------------------------------------+--------------+\n"
     ]
    }
   ],
   "source": [
    "from tabulate import tabulate\n",
    "\n",
    "# Add predictions to the DataFrame\n",
    "live_data_df['prediction'] = predictions\n",
    "\n",
    "# Create a readable table with predictions\n",
    "table = tabulate(live_data_df, headers='keys', tablefmt='grid')\n",
    "print(\"Live Data Predictions:\")\n",
    "print(table)\n"
   ]
  },
  {
   "cell_type": "code",
   "execution_count": 79,
   "id": "7f97d5bc-1dba-496a-a776-06af761154d0",
   "metadata": {},
   "outputs": [
    {
     "name": "stdout",
     "output_type": "stream",
     "text": [
      "Live data saved to ../Data/processed_data/live_data_output.csv\n"
     ]
    }
   ],
   "source": [
    "# Save the DataFrame to a CSV file with clear headers\n",
    "output_path = '../Data/processed_data/live_data_output.csv'\n",
    "live_data_df.to_csv(output_path, index=False, header=True)\n",
    "\n",
    "print(f\"Live data saved to {output_path}\")\n"
   ]
  },
  {
   "cell_type": "code",
   "execution_count": 80,
   "id": "c3283e6c-8dd0-4d7e-a562-f49914fc184b",
   "metadata": {},
   "outputs": [
    {
     "data": {
      "image/png": "[encoded data removed]",
      "text/plain": [
       "<Figure size 640x480 with 1 Axes>"
      ]
     },
     "metadata": {},
     "output_type": "display_data"
    }
   ],
   "source": [
    "import matplotlib.pyplot as plt\n",
    "\n",
    "plt.bar(['Prediction'], predictions)\n",
    "plt.title('Weather Condition Prediction')\n",
    "plt.ylabel('Prediction Value')\n",
    "plt.ylim(0, 0.50)  # Set y-axis limit to make the small value visible\n",
    "plt.show()\n"
   ]
  },
  {
   "cell_type": "markdown",
   "id": "84ebca44-3368-4320-afee-8e781f45b4d6",
   "metadata": {},
   "source": [
    "# Import function from idms_function.py file from vs code"
   ]
  },
  {
   "cell_type": "code",
   "execution_count": 82,
   "id": "eb1a8179-3851-410a-8ab0-4619d10013d4",
   "metadata": {},
   "outputs": [],
   "source": [
    "#from src.idms_functions import clean_data, create_features, generate_alert, suggest_action, fetch_live_weather_data\n",
    "\n",
    "# Example usage:\n",
    "#df = pd.DataFrame({'existing_feature': [1, 2, 3]})\n",
    "#df_cleaned = clean_data(df)\n",
    "#df_features = create_features(df_cleaned)\n",
    "#print(df_features)\n"
   ]
  },
  {
   "cell_type": "code",
   "execution_count": 83,
   "id": "06f84e1b-c248-45dc-bd9e-2cf019632955",
   "metadata": {},
   "outputs": [
    {
     "name": "stdout",
     "output_type": "stream",
     "text": [
      "fdcfb458f1ae614c7549bde3e3430cf728d4825bcc6f848a\n"
     ]
    }
   ],
   "source": [
    "import os\n",
    "secret_key = os.urandom(24).hex()\n",
    "print(secret_key)\n"
   ]
  },
  {
   "cell_type": "code",
   "execution_count": 84,
   "id": "dae4d0c0-b127-4388-ad63-e4b784e0b6ea",
   "metadata": {},
   "outputs": [
    {
     "data": {
      "text/plain": [
       "'48703852192a8309a44fd778b1c92fe2'"
      ]
     },
     "execution_count": 84,
     "metadata": {},
     "output_type": "execute_result"
    }
   ],
   "source": [
    "import secrets\n",
    "secrets.token_hex(16)  "
   ]
  },
  {
   "cell_type": "code",
   "execution_count": null,
   "id": "25a49e13-cdf2-47b5-8484-b0306a2cfc70",
   "metadata": {},
   "outputs": [],
   "source": []
  },
  {
   "cell_type": "code",
   "execution_count": null,
   "id": "e1e97904-0f2e-4efd-8698-5e35e0d9511a",
   "metadata": {},
   "outputs": [],
   "source": []
  }
 ],
 "metadata": {
  "kernelspec": {
   "display_name": "Python 3 (ipykernel)",
   "language": "python",
   "name": "python3"
  },
  "language_info": {
   "codemirror_mode": {
    "name": "ipython",
    "version": 3
   },
   "file_extension": ".py",
   "mimetype": "text/x-python",
   "name": "python",
   "nbconvert_exporter": "python",
   "pygments_lexer": "ipython3",
   "version": "3.12.4"
  }
 },
 "nbformat": 4,
 "nbformat_minor": 5
}
